{
  "cells": [
    {
      "cell_type": "code",
      "source": [
        "import pandas as pd\n",
        "import numpy as np\n",
        "a=pd.read_csv('/content/diabetes.csv')\n",
        "a.head(10)\n"
      ],
      "metadata": {
        "id": "73RRatCZqIxT",
        "colab": {
          "base_uri": "https://localhost:8080/",
          "height": 383
        },
        "outputId": "205ea751-a2a9-4d44-e160-351c3e4846d4"
      },
      "execution_count": null,
      "outputs": [
        {
          "output_type": "execute_result",
          "data": {
            "text/plain": [
              "   Pregnancies  Glucose  BloodPressure  SkinThickness  Insulin   BMI  \\\n",
              "0            6      148             72             35        0  33.6   \n",
              "1            1       85             66             29        0  26.6   \n",
              "2            8      183             64              0        0  23.3   \n",
              "3            1       89             66             23       94  28.1   \n",
              "4            0      137             40             35      168  43.1   \n",
              "5            5      116             74              0        0  25.6   \n",
              "6            3       78             50             32       88  31.0   \n",
              "7           10      115              0              0        0  35.3   \n",
              "8            2      197             70             45      543  30.5   \n",
              "9            8      125             96              0        0   0.0   \n",
              "\n",
              "   DiabetesPedigreeFunction  Age  Outcome  \n",
              "0                     0.627   50        1  \n",
              "1                     0.351   31        0  \n",
              "2                     0.672   32        1  \n",
              "3                     0.167   21        0  \n",
              "4                     2.288   33        1  \n",
              "5                     0.201   30        0  \n",
              "6                     0.248   26        1  \n",
              "7                     0.134   29        0  \n",
              "8                     0.158   53        1  \n",
              "9                     0.232   54        1  "
            ],
            "text/html": [
              "\n",
              "  <div id=\"df-6e31d642-d75f-4ce9-96b8-fc6f5f5389dd\" class=\"colab-df-container\">\n",
              "    <div>\n",
              "<style scoped>\n",
              "    .dataframe tbody tr th:only-of-type {\n",
              "        vertical-align: middle;\n",
              "    }\n",
              "\n",
              "    .dataframe tbody tr th {\n",
              "        vertical-align: top;\n",
              "    }\n",
              "\n",
              "    .dataframe thead th {\n",
              "        text-align: right;\n",
              "    }\n",
              "</style>\n",
              "<table border=\"1\" class=\"dataframe\">\n",
              "  <thead>\n",
              "    <tr style=\"text-align: right;\">\n",
              "      <th></th>\n",
              "      <th>Pregnancies</th>\n",
              "      <th>Glucose</th>\n",
              "      <th>BloodPressure</th>\n",
              "      <th>SkinThickness</th>\n",
              "      <th>Insulin</th>\n",
              "      <th>BMI</th>\n",
              "      <th>DiabetesPedigreeFunction</th>\n",
              "      <th>Age</th>\n",
              "      <th>Outcome</th>\n",
              "    </tr>\n",
              "  </thead>\n",
              "  <tbody>\n",
              "    <tr>\n",
              "      <th>0</th>\n",
              "      <td>6</td>\n",
              "      <td>148</td>\n",
              "      <td>72</td>\n",
              "      <td>35</td>\n",
              "      <td>0</td>\n",
              "      <td>33.6</td>\n",
              "      <td>0.627</td>\n",
              "      <td>50</td>\n",
              "      <td>1</td>\n",
              "    </tr>\n",
              "    <tr>\n",
              "      <th>1</th>\n",
              "      <td>1</td>\n",
              "      <td>85</td>\n",
              "      <td>66</td>\n",
              "      <td>29</td>\n",
              "      <td>0</td>\n",
              "      <td>26.6</td>\n",
              "      <td>0.351</td>\n",
              "      <td>31</td>\n",
              "      <td>0</td>\n",
              "    </tr>\n",
              "    <tr>\n",
              "      <th>2</th>\n",
              "      <td>8</td>\n",
              "      <td>183</td>\n",
              "      <td>64</td>\n",
              "      <td>0</td>\n",
              "      <td>0</td>\n",
              "      <td>23.3</td>\n",
              "      <td>0.672</td>\n",
              "      <td>32</td>\n",
              "      <td>1</td>\n",
              "    </tr>\n",
              "    <tr>\n",
              "      <th>3</th>\n",
              "      <td>1</td>\n",
              "      <td>89</td>\n",
              "      <td>66</td>\n",
              "      <td>23</td>\n",
              "      <td>94</td>\n",
              "      <td>28.1</td>\n",
              "      <td>0.167</td>\n",
              "      <td>21</td>\n",
              "      <td>0</td>\n",
              "    </tr>\n",
              "    <tr>\n",
              "      <th>4</th>\n",
              "      <td>0</td>\n",
              "      <td>137</td>\n",
              "      <td>40</td>\n",
              "      <td>35</td>\n",
              "      <td>168</td>\n",
              "      <td>43.1</td>\n",
              "      <td>2.288</td>\n",
              "      <td>33</td>\n",
              "      <td>1</td>\n",
              "    </tr>\n",
              "    <tr>\n",
              "      <th>5</th>\n",
              "      <td>5</td>\n",
              "      <td>116</td>\n",
              "      <td>74</td>\n",
              "      <td>0</td>\n",
              "      <td>0</td>\n",
              "      <td>25.6</td>\n",
              "      <td>0.201</td>\n",
              "      <td>30</td>\n",
              "      <td>0</td>\n",
              "    </tr>\n",
              "    <tr>\n",
              "      <th>6</th>\n",
              "      <td>3</td>\n",
              "      <td>78</td>\n",
              "      <td>50</td>\n",
              "      <td>32</td>\n",
              "      <td>88</td>\n",
              "      <td>31.0</td>\n",
              "      <td>0.248</td>\n",
              "      <td>26</td>\n",
              "      <td>1</td>\n",
              "    </tr>\n",
              "    <tr>\n",
              "      <th>7</th>\n",
              "      <td>10</td>\n",
              "      <td>115</td>\n",
              "      <td>0</td>\n",
              "      <td>0</td>\n",
              "      <td>0</td>\n",
              "      <td>35.3</td>\n",
              "      <td>0.134</td>\n",
              "      <td>29</td>\n",
              "      <td>0</td>\n",
              "    </tr>\n",
              "    <tr>\n",
              "      <th>8</th>\n",
              "      <td>2</td>\n",
              "      <td>197</td>\n",
              "      <td>70</td>\n",
              "      <td>45</td>\n",
              "      <td>543</td>\n",
              "      <td>30.5</td>\n",
              "      <td>0.158</td>\n",
              "      <td>53</td>\n",
              "      <td>1</td>\n",
              "    </tr>\n",
              "    <tr>\n",
              "      <th>9</th>\n",
              "      <td>8</td>\n",
              "      <td>125</td>\n",
              "      <td>96</td>\n",
              "      <td>0</td>\n",
              "      <td>0</td>\n",
              "      <td>0.0</td>\n",
              "      <td>0.232</td>\n",
              "      <td>54</td>\n",
              "      <td>1</td>\n",
              "    </tr>\n",
              "  </tbody>\n",
              "</table>\n",
              "</div>\n",
              "    <div class=\"colab-df-buttons\">\n",
              "\n",
              "  <div class=\"colab-df-container\">\n",
              "    <button class=\"colab-df-convert\" onclick=\"convertToInteractive('df-6e31d642-d75f-4ce9-96b8-fc6f5f5389dd')\"\n",
              "            title=\"Convert this dataframe to an interactive table.\"\n",
              "            style=\"display:none;\">\n",
              "\n",
              "  <svg xmlns=\"http://www.w3.org/2000/svg\" height=\"24px\" viewBox=\"0 -960 960 960\">\n",
              "    <path d=\"M120-120v-720h720v720H120Zm60-500h600v-160H180v160Zm220 220h160v-160H400v160Zm0 220h160v-160H400v160ZM180-400h160v-160H180v160Zm440 0h160v-160H620v160ZM180-180h160v-160H180v160Zm440 0h160v-160H620v160Z\"/>\n",
              "  </svg>\n",
              "    </button>\n",
              "\n",
              "  <style>\n",
              "    .colab-df-container {\n",
              "      display:flex;\n",
              "      gap: 12px;\n",
              "    }\n",
              "\n",
              "    .colab-df-convert {\n",
              "      background-color: #E8F0FE;\n",
              "      border: none;\n",
              "      border-radius: 50%;\n",
              "      cursor: pointer;\n",
              "      display: none;\n",
              "      fill: #1967D2;\n",
              "      height: 32px;\n",
              "      padding: 0 0 0 0;\n",
              "      width: 32px;\n",
              "    }\n",
              "\n",
              "    .colab-df-convert:hover {\n",
              "      background-color: #E2EBFA;\n",
              "      box-shadow: 0px 1px 2px rgba(60, 64, 67, 0.3), 0px 1px 3px 1px rgba(60, 64, 67, 0.15);\n",
              "      fill: #174EA6;\n",
              "    }\n",
              "\n",
              "    .colab-df-buttons div {\n",
              "      margin-bottom: 4px;\n",
              "    }\n",
              "\n",
              "    [theme=dark] .colab-df-convert {\n",
              "      background-color: #3B4455;\n",
              "      fill: #D2E3FC;\n",
              "    }\n",
              "\n",
              "    [theme=dark] .colab-df-convert:hover {\n",
              "      background-color: #434B5C;\n",
              "      box-shadow: 0px 1px 3px 1px rgba(0, 0, 0, 0.15);\n",
              "      filter: drop-shadow(0px 1px 2px rgba(0, 0, 0, 0.3));\n",
              "      fill: #FFFFFF;\n",
              "    }\n",
              "  </style>\n",
              "\n",
              "    <script>\n",
              "      const buttonEl =\n",
              "        document.querySelector('#df-6e31d642-d75f-4ce9-96b8-fc6f5f5389dd button.colab-df-convert');\n",
              "      buttonEl.style.display =\n",
              "        google.colab.kernel.accessAllowed ? 'block' : 'none';\n",
              "\n",
              "      async function convertToInteractive(key) {\n",
              "        const element = document.querySelector('#df-6e31d642-d75f-4ce9-96b8-fc6f5f5389dd');\n",
              "        const dataTable =\n",
              "          await google.colab.kernel.invokeFunction('convertToInteractive',\n",
              "                                                    [key], {});\n",
              "        if (!dataTable) return;\n",
              "\n",
              "        const docLinkHtml = 'Like what you see? Visit the ' +\n",
              "          '<a target=\"_blank\" href=https://colab.research.google.com/notebooks/data_table.ipynb>data table notebook</a>'\n",
              "          + ' to learn more about interactive tables.';\n",
              "        element.innerHTML = '';\n",
              "        dataTable['output_type'] = 'display_data';\n",
              "        await google.colab.output.renderOutput(dataTable, element);\n",
              "        const docLink = document.createElement('div');\n",
              "        docLink.innerHTML = docLinkHtml;\n",
              "        element.appendChild(docLink);\n",
              "      }\n",
              "    </script>\n",
              "  </div>\n",
              "\n",
              "\n",
              "<div id=\"df-20b640b9-df3c-4433-8d33-3237cf082bd7\">\n",
              "  <button class=\"colab-df-quickchart\" onclick=\"quickchart('df-20b640b9-df3c-4433-8d33-3237cf082bd7')\"\n",
              "            title=\"Suggest charts\"\n",
              "            style=\"display:none;\">\n",
              "\n",
              "<svg xmlns=\"http://www.w3.org/2000/svg\" height=\"24px\"viewBox=\"0 0 24 24\"\n",
              "     width=\"24px\">\n",
              "    <g>\n",
              "        <path d=\"M19 3H5c-1.1 0-2 .9-2 2v14c0 1.1.9 2 2 2h14c1.1 0 2-.9 2-2V5c0-1.1-.9-2-2-2zM9 17H7v-7h2v7zm4 0h-2V7h2v10zm4 0h-2v-4h2v4z\"/>\n",
              "    </g>\n",
              "</svg>\n",
              "  </button>\n",
              "\n",
              "<style>\n",
              "  .colab-df-quickchart {\n",
              "      --bg-color: #E8F0FE;\n",
              "      --fill-color: #1967D2;\n",
              "      --hover-bg-color: #E2EBFA;\n",
              "      --hover-fill-color: #174EA6;\n",
              "      --disabled-fill-color: #AAA;\n",
              "      --disabled-bg-color: #DDD;\n",
              "  }\n",
              "\n",
              "  [theme=dark] .colab-df-quickchart {\n",
              "      --bg-color: #3B4455;\n",
              "      --fill-color: #D2E3FC;\n",
              "      --hover-bg-color: #434B5C;\n",
              "      --hover-fill-color: #FFFFFF;\n",
              "      --disabled-bg-color: #3B4455;\n",
              "      --disabled-fill-color: #666;\n",
              "  }\n",
              "\n",
              "  .colab-df-quickchart {\n",
              "    background-color: var(--bg-color);\n",
              "    border: none;\n",
              "    border-radius: 50%;\n",
              "    cursor: pointer;\n",
              "    display: none;\n",
              "    fill: var(--fill-color);\n",
              "    height: 32px;\n",
              "    padding: 0;\n",
              "    width: 32px;\n",
              "  }\n",
              "\n",
              "  .colab-df-quickchart:hover {\n",
              "    background-color: var(--hover-bg-color);\n",
              "    box-shadow: 0 1px 2px rgba(60, 64, 67, 0.3), 0 1px 3px 1px rgba(60, 64, 67, 0.15);\n",
              "    fill: var(--button-hover-fill-color);\n",
              "  }\n",
              "\n",
              "  .colab-df-quickchart-complete:disabled,\n",
              "  .colab-df-quickchart-complete:disabled:hover {\n",
              "    background-color: var(--disabled-bg-color);\n",
              "    fill: var(--disabled-fill-color);\n",
              "    box-shadow: none;\n",
              "  }\n",
              "\n",
              "  .colab-df-spinner {\n",
              "    border: 2px solid var(--fill-color);\n",
              "    border-color: transparent;\n",
              "    border-bottom-color: var(--fill-color);\n",
              "    animation:\n",
              "      spin 1s steps(1) infinite;\n",
              "  }\n",
              "\n",
              "  @keyframes spin {\n",
              "    0% {\n",
              "      border-color: transparent;\n",
              "      border-bottom-color: var(--fill-color);\n",
              "      border-left-color: var(--fill-color);\n",
              "    }\n",
              "    20% {\n",
              "      border-color: transparent;\n",
              "      border-left-color: var(--fill-color);\n",
              "      border-top-color: var(--fill-color);\n",
              "    }\n",
              "    30% {\n",
              "      border-color: transparent;\n",
              "      border-left-color: var(--fill-color);\n",
              "      border-top-color: var(--fill-color);\n",
              "      border-right-color: var(--fill-color);\n",
              "    }\n",
              "    40% {\n",
              "      border-color: transparent;\n",
              "      border-right-color: var(--fill-color);\n",
              "      border-top-color: var(--fill-color);\n",
              "    }\n",
              "    60% {\n",
              "      border-color: transparent;\n",
              "      border-right-color: var(--fill-color);\n",
              "    }\n",
              "    80% {\n",
              "      border-color: transparent;\n",
              "      border-right-color: var(--fill-color);\n",
              "      border-bottom-color: var(--fill-color);\n",
              "    }\n",
              "    90% {\n",
              "      border-color: transparent;\n",
              "      border-bottom-color: var(--fill-color);\n",
              "    }\n",
              "  }\n",
              "</style>\n",
              "\n",
              "  <script>\n",
              "    async function quickchart(key) {\n",
              "      const quickchartButtonEl =\n",
              "        document.querySelector('#' + key + ' button');\n",
              "      quickchartButtonEl.disabled = true;  // To prevent multiple clicks.\n",
              "      quickchartButtonEl.classList.add('colab-df-spinner');\n",
              "      try {\n",
              "        const charts = await google.colab.kernel.invokeFunction(\n",
              "            'suggestCharts', [key], {});\n",
              "      } catch (error) {\n",
              "        console.error('Error during call to suggestCharts:', error);\n",
              "      }\n",
              "      quickchartButtonEl.classList.remove('colab-df-spinner');\n",
              "      quickchartButtonEl.classList.add('colab-df-quickchart-complete');\n",
              "    }\n",
              "    (() => {\n",
              "      let quickchartButtonEl =\n",
              "        document.querySelector('#df-20b640b9-df3c-4433-8d33-3237cf082bd7 button');\n",
              "      quickchartButtonEl.style.display =\n",
              "        google.colab.kernel.accessAllowed ? 'block' : 'none';\n",
              "    })();\n",
              "  </script>\n",
              "</div>\n",
              "\n",
              "    </div>\n",
              "  </div>\n"
            ],
            "application/vnd.google.colaboratory.intrinsic+json": {
              "type": "dataframe",
              "variable_name": "a",
              "summary": "{\n  \"name\": \"a\",\n  \"rows\": 768,\n  \"fields\": [\n    {\n      \"column\": \"Pregnancies\",\n      \"properties\": {\n        \"dtype\": \"number\",\n        \"std\": 3,\n        \"min\": 0,\n        \"max\": 17,\n        \"num_unique_values\": 17,\n        \"samples\": [\n          6,\n          1,\n          3\n        ],\n        \"semantic_type\": \"\",\n        \"description\": \"\"\n      }\n    },\n    {\n      \"column\": \"Glucose\",\n      \"properties\": {\n        \"dtype\": \"number\",\n        \"std\": 31,\n        \"min\": 0,\n        \"max\": 199,\n        \"num_unique_values\": 136,\n        \"samples\": [\n          151,\n          101,\n          112\n        ],\n        \"semantic_type\": \"\",\n        \"description\": \"\"\n      }\n    },\n    {\n      \"column\": \"BloodPressure\",\n      \"properties\": {\n        \"dtype\": \"number\",\n        \"std\": 19,\n        \"min\": 0,\n        \"max\": 122,\n        \"num_unique_values\": 47,\n        \"samples\": [\n          86,\n          46,\n          85\n        ],\n        \"semantic_type\": \"\",\n        \"description\": \"\"\n      }\n    },\n    {\n      \"column\": \"SkinThickness\",\n      \"properties\": {\n        \"dtype\": \"number\",\n        \"std\": 15,\n        \"min\": 0,\n        \"max\": 99,\n        \"num_unique_values\": 51,\n        \"samples\": [\n          7,\n          12,\n          48\n        ],\n        \"semantic_type\": \"\",\n        \"description\": \"\"\n      }\n    },\n    {\n      \"column\": \"Insulin\",\n      \"properties\": {\n        \"dtype\": \"number\",\n        \"std\": 115,\n        \"min\": 0,\n        \"max\": 846,\n        \"num_unique_values\": 186,\n        \"samples\": [\n          52,\n          41,\n          183\n        ],\n        \"semantic_type\": \"\",\n        \"description\": \"\"\n      }\n    },\n    {\n      \"column\": \"BMI\",\n      \"properties\": {\n        \"dtype\": \"number\",\n        \"std\": 7.884160320375446,\n        \"min\": 0.0,\n        \"max\": 67.1,\n        \"num_unique_values\": 248,\n        \"samples\": [\n          19.9,\n          31.0,\n          38.1\n        ],\n        \"semantic_type\": \"\",\n        \"description\": \"\"\n      }\n    },\n    {\n      \"column\": \"DiabetesPedigreeFunction\",\n      \"properties\": {\n        \"dtype\": \"number\",\n        \"std\": 0.3313285950127749,\n        \"min\": 0.078,\n        \"max\": 2.42,\n        \"num_unique_values\": 517,\n        \"samples\": [\n          1.731,\n          0.426,\n          0.138\n        ],\n        \"semantic_type\": \"\",\n        \"description\": \"\"\n      }\n    },\n    {\n      \"column\": \"Age\",\n      \"properties\": {\n        \"dtype\": \"number\",\n        \"std\": 11,\n        \"min\": 21,\n        \"max\": 81,\n        \"num_unique_values\": 52,\n        \"samples\": [\n          60,\n          47,\n          72\n        ],\n        \"semantic_type\": \"\",\n        \"description\": \"\"\n      }\n    },\n    {\n      \"column\": \"Outcome\",\n      \"properties\": {\n        \"dtype\": \"number\",\n        \"std\": 0,\n        \"min\": 0,\n        \"max\": 1,\n        \"num_unique_values\": 2,\n        \"samples\": [\n          0,\n          1\n        ],\n        \"semantic_type\": \"\",\n        \"description\": \"\"\n      }\n    }\n  ]\n}"
            }
          },
          "metadata": {},
          "execution_count": 5
        }
      ]
    },
    {
      "cell_type": "code",
      "source": [
        "a.info()"
      ],
      "metadata": {
        "id": "pRiTWqXNqIt3",
        "colab": {
          "base_uri": "https://localhost:8080/"
        },
        "outputId": "dc63ff93-3803-44c4-9fd6-a8981e1fa32a"
      },
      "execution_count": null,
      "outputs": [
        {
          "output_type": "stream",
          "name": "stdout",
          "text": [
            "<class 'pandas.core.frame.DataFrame'>\n",
            "RangeIndex: 768 entries, 0 to 767\n",
            "Data columns (total 9 columns):\n",
            " #   Column                    Non-Null Count  Dtype  \n",
            "---  ------                    --------------  -----  \n",
            " 0   Pregnancies               768 non-null    int64  \n",
            " 1   Glucose                   768 non-null    int64  \n",
            " 2   BloodPressure             768 non-null    int64  \n",
            " 3   SkinThickness             768 non-null    int64  \n",
            " 4   Insulin                   768 non-null    int64  \n",
            " 5   BMI                       768 non-null    float64\n",
            " 6   DiabetesPedigreeFunction  768 non-null    float64\n",
            " 7   Age                       768 non-null    int64  \n",
            " 8   Outcome                   768 non-null    int64  \n",
            "dtypes: float64(2), int64(7)\n",
            "memory usage: 54.1 KB\n"
          ]
        }
      ]
    },
    {
      "cell_type": "code",
      "source": [
        "a.describe()"
      ],
      "metadata": {
        "id": "ezPvF9LAqIrF",
        "colab": {
          "base_uri": "https://localhost:8080/",
          "height": 320
        },
        "outputId": "e1d9781f-f633-4947-ac2e-c00d4885a078"
      },
      "execution_count": null,
      "outputs": [
        {
          "output_type": "execute_result",
          "data": {
            "text/plain": [
              "       Pregnancies     Glucose  BloodPressure  SkinThickness     Insulin  \\\n",
              "count   768.000000  768.000000     768.000000     768.000000  768.000000   \n",
              "mean      3.845052  120.894531      69.105469      20.536458   79.799479   \n",
              "std       3.369578   31.972618      19.355807      15.952218  115.244002   \n",
              "min       0.000000    0.000000       0.000000       0.000000    0.000000   \n",
              "25%       1.000000   99.000000      62.000000       0.000000    0.000000   \n",
              "50%       3.000000  117.000000      72.000000      23.000000   30.500000   \n",
              "75%       6.000000  140.250000      80.000000      32.000000  127.250000   \n",
              "max      17.000000  199.000000     122.000000      99.000000  846.000000   \n",
              "\n",
              "              BMI  DiabetesPedigreeFunction         Age     Outcome  \n",
              "count  768.000000                768.000000  768.000000  768.000000  \n",
              "mean    31.992578                  0.471876   33.240885    0.348958  \n",
              "std      7.884160                  0.331329   11.760232    0.476951  \n",
              "min      0.000000                  0.078000   21.000000    0.000000  \n",
              "25%     27.300000                  0.243750   24.000000    0.000000  \n",
              "50%     32.000000                  0.372500   29.000000    0.000000  \n",
              "75%     36.600000                  0.626250   41.000000    1.000000  \n",
              "max     67.100000                  2.420000   81.000000    1.000000  "
            ],
            "text/html": [
              "\n",
              "  <div id=\"df-82ab358b-67ed-47c3-8f01-61523c73b753\" class=\"colab-df-container\">\n",
              "    <div>\n",
              "<style scoped>\n",
              "    .dataframe tbody tr th:only-of-type {\n",
              "        vertical-align: middle;\n",
              "    }\n",
              "\n",
              "    .dataframe tbody tr th {\n",
              "        vertical-align: top;\n",
              "    }\n",
              "\n",
              "    .dataframe thead th {\n",
              "        text-align: right;\n",
              "    }\n",
              "</style>\n",
              "<table border=\"1\" class=\"dataframe\">\n",
              "  <thead>\n",
              "    <tr style=\"text-align: right;\">\n",
              "      <th></th>\n",
              "      <th>Pregnancies</th>\n",
              "      <th>Glucose</th>\n",
              "      <th>BloodPressure</th>\n",
              "      <th>SkinThickness</th>\n",
              "      <th>Insulin</th>\n",
              "      <th>BMI</th>\n",
              "      <th>DiabetesPedigreeFunction</th>\n",
              "      <th>Age</th>\n",
              "      <th>Outcome</th>\n",
              "    </tr>\n",
              "  </thead>\n",
              "  <tbody>\n",
              "    <tr>\n",
              "      <th>count</th>\n",
              "      <td>768.000000</td>\n",
              "      <td>768.000000</td>\n",
              "      <td>768.000000</td>\n",
              "      <td>768.000000</td>\n",
              "      <td>768.000000</td>\n",
              "      <td>768.000000</td>\n",
              "      <td>768.000000</td>\n",
              "      <td>768.000000</td>\n",
              "      <td>768.000000</td>\n",
              "    </tr>\n",
              "    <tr>\n",
              "      <th>mean</th>\n",
              "      <td>3.845052</td>\n",
              "      <td>120.894531</td>\n",
              "      <td>69.105469</td>\n",
              "      <td>20.536458</td>\n",
              "      <td>79.799479</td>\n",
              "      <td>31.992578</td>\n",
              "      <td>0.471876</td>\n",
              "      <td>33.240885</td>\n",
              "      <td>0.348958</td>\n",
              "    </tr>\n",
              "    <tr>\n",
              "      <th>std</th>\n",
              "      <td>3.369578</td>\n",
              "      <td>31.972618</td>\n",
              "      <td>19.355807</td>\n",
              "      <td>15.952218</td>\n",
              "      <td>115.244002</td>\n",
              "      <td>7.884160</td>\n",
              "      <td>0.331329</td>\n",
              "      <td>11.760232</td>\n",
              "      <td>0.476951</td>\n",
              "    </tr>\n",
              "    <tr>\n",
              "      <th>min</th>\n",
              "      <td>0.000000</td>\n",
              "      <td>0.000000</td>\n",
              "      <td>0.000000</td>\n",
              "      <td>0.000000</td>\n",
              "      <td>0.000000</td>\n",
              "      <td>0.000000</td>\n",
              "      <td>0.078000</td>\n",
              "      <td>21.000000</td>\n",
              "      <td>0.000000</td>\n",
              "    </tr>\n",
              "    <tr>\n",
              "      <th>25%</th>\n",
              "      <td>1.000000</td>\n",
              "      <td>99.000000</td>\n",
              "      <td>62.000000</td>\n",
              "      <td>0.000000</td>\n",
              "      <td>0.000000</td>\n",
              "      <td>27.300000</td>\n",
              "      <td>0.243750</td>\n",
              "      <td>24.000000</td>\n",
              "      <td>0.000000</td>\n",
              "    </tr>\n",
              "    <tr>\n",
              "      <th>50%</th>\n",
              "      <td>3.000000</td>\n",
              "      <td>117.000000</td>\n",
              "      <td>72.000000</td>\n",
              "      <td>23.000000</td>\n",
              "      <td>30.500000</td>\n",
              "      <td>32.000000</td>\n",
              "      <td>0.372500</td>\n",
              "      <td>29.000000</td>\n",
              "      <td>0.000000</td>\n",
              "    </tr>\n",
              "    <tr>\n",
              "      <th>75%</th>\n",
              "      <td>6.000000</td>\n",
              "      <td>140.250000</td>\n",
              "      <td>80.000000</td>\n",
              "      <td>32.000000</td>\n",
              "      <td>127.250000</td>\n",
              "      <td>36.600000</td>\n",
              "      <td>0.626250</td>\n",
              "      <td>41.000000</td>\n",
              "      <td>1.000000</td>\n",
              "    </tr>\n",
              "    <tr>\n",
              "      <th>max</th>\n",
              "      <td>17.000000</td>\n",
              "      <td>199.000000</td>\n",
              "      <td>122.000000</td>\n",
              "      <td>99.000000</td>\n",
              "      <td>846.000000</td>\n",
              "      <td>67.100000</td>\n",
              "      <td>2.420000</td>\n",
              "      <td>81.000000</td>\n",
              "      <td>1.000000</td>\n",
              "    </tr>\n",
              "  </tbody>\n",
              "</table>\n",
              "</div>\n",
              "    <div class=\"colab-df-buttons\">\n",
              "\n",
              "  <div class=\"colab-df-container\">\n",
              "    <button class=\"colab-df-convert\" onclick=\"convertToInteractive('df-82ab358b-67ed-47c3-8f01-61523c73b753')\"\n",
              "            title=\"Convert this dataframe to an interactive table.\"\n",
              "            style=\"display:none;\">\n",
              "\n",
              "  <svg xmlns=\"http://www.w3.org/2000/svg\" height=\"24px\" viewBox=\"0 -960 960 960\">\n",
              "    <path d=\"M120-120v-720h720v720H120Zm60-500h600v-160H180v160Zm220 220h160v-160H400v160Zm0 220h160v-160H400v160ZM180-400h160v-160H180v160Zm440 0h160v-160H620v160ZM180-180h160v-160H180v160Zm440 0h160v-160H620v160Z\"/>\n",
              "  </svg>\n",
              "    </button>\n",
              "\n",
              "  <style>\n",
              "    .colab-df-container {\n",
              "      display:flex;\n",
              "      gap: 12px;\n",
              "    }\n",
              "\n",
              "    .colab-df-convert {\n",
              "      background-color: #E8F0FE;\n",
              "      border: none;\n",
              "      border-radius: 50%;\n",
              "      cursor: pointer;\n",
              "      display: none;\n",
              "      fill: #1967D2;\n",
              "      height: 32px;\n",
              "      padding: 0 0 0 0;\n",
              "      width: 32px;\n",
              "    }\n",
              "\n",
              "    .colab-df-convert:hover {\n",
              "      background-color: #E2EBFA;\n",
              "      box-shadow: 0px 1px 2px rgba(60, 64, 67, 0.3), 0px 1px 3px 1px rgba(60, 64, 67, 0.15);\n",
              "      fill: #174EA6;\n",
              "    }\n",
              "\n",
              "    .colab-df-buttons div {\n",
              "      margin-bottom: 4px;\n",
              "    }\n",
              "\n",
              "    [theme=dark] .colab-df-convert {\n",
              "      background-color: #3B4455;\n",
              "      fill: #D2E3FC;\n",
              "    }\n",
              "\n",
              "    [theme=dark] .colab-df-convert:hover {\n",
              "      background-color: #434B5C;\n",
              "      box-shadow: 0px 1px 3px 1px rgba(0, 0, 0, 0.15);\n",
              "      filter: drop-shadow(0px 1px 2px rgba(0, 0, 0, 0.3));\n",
              "      fill: #FFFFFF;\n",
              "    }\n",
              "  </style>\n",
              "\n",
              "    <script>\n",
              "      const buttonEl =\n",
              "        document.querySelector('#df-82ab358b-67ed-47c3-8f01-61523c73b753 button.colab-df-convert');\n",
              "      buttonEl.style.display =\n",
              "        google.colab.kernel.accessAllowed ? 'block' : 'none';\n",
              "\n",
              "      async function convertToInteractive(key) {\n",
              "        const element = document.querySelector('#df-82ab358b-67ed-47c3-8f01-61523c73b753');\n",
              "        const dataTable =\n",
              "          await google.colab.kernel.invokeFunction('convertToInteractive',\n",
              "                                                    [key], {});\n",
              "        if (!dataTable) return;\n",
              "\n",
              "        const docLinkHtml = 'Like what you see? Visit the ' +\n",
              "          '<a target=\"_blank\" href=https://colab.research.google.com/notebooks/data_table.ipynb>data table notebook</a>'\n",
              "          + ' to learn more about interactive tables.';\n",
              "        element.innerHTML = '';\n",
              "        dataTable['output_type'] = 'display_data';\n",
              "        await google.colab.output.renderOutput(dataTable, element);\n",
              "        const docLink = document.createElement('div');\n",
              "        docLink.innerHTML = docLinkHtml;\n",
              "        element.appendChild(docLink);\n",
              "      }\n",
              "    </script>\n",
              "  </div>\n",
              "\n",
              "\n",
              "<div id=\"df-71147b79-b0f4-4b82-bcfc-e83a9a6dab17\">\n",
              "  <button class=\"colab-df-quickchart\" onclick=\"quickchart('df-71147b79-b0f4-4b82-bcfc-e83a9a6dab17')\"\n",
              "            title=\"Suggest charts\"\n",
              "            style=\"display:none;\">\n",
              "\n",
              "<svg xmlns=\"http://www.w3.org/2000/svg\" height=\"24px\"viewBox=\"0 0 24 24\"\n",
              "     width=\"24px\">\n",
              "    <g>\n",
              "        <path d=\"M19 3H5c-1.1 0-2 .9-2 2v14c0 1.1.9 2 2 2h14c1.1 0 2-.9 2-2V5c0-1.1-.9-2-2-2zM9 17H7v-7h2v7zm4 0h-2V7h2v10zm4 0h-2v-4h2v4z\"/>\n",
              "    </g>\n",
              "</svg>\n",
              "  </button>\n",
              "\n",
              "<style>\n",
              "  .colab-df-quickchart {\n",
              "      --bg-color: #E8F0FE;\n",
              "      --fill-color: #1967D2;\n",
              "      --hover-bg-color: #E2EBFA;\n",
              "      --hover-fill-color: #174EA6;\n",
              "      --disabled-fill-color: #AAA;\n",
              "      --disabled-bg-color: #DDD;\n",
              "  }\n",
              "\n",
              "  [theme=dark] .colab-df-quickchart {\n",
              "      --bg-color: #3B4455;\n",
              "      --fill-color: #D2E3FC;\n",
              "      --hover-bg-color: #434B5C;\n",
              "      --hover-fill-color: #FFFFFF;\n",
              "      --disabled-bg-color: #3B4455;\n",
              "      --disabled-fill-color: #666;\n",
              "  }\n",
              "\n",
              "  .colab-df-quickchart {\n",
              "    background-color: var(--bg-color);\n",
              "    border: none;\n",
              "    border-radius: 50%;\n",
              "    cursor: pointer;\n",
              "    display: none;\n",
              "    fill: var(--fill-color);\n",
              "    height: 32px;\n",
              "    padding: 0;\n",
              "    width: 32px;\n",
              "  }\n",
              "\n",
              "  .colab-df-quickchart:hover {\n",
              "    background-color: var(--hover-bg-color);\n",
              "    box-shadow: 0 1px 2px rgba(60, 64, 67, 0.3), 0 1px 3px 1px rgba(60, 64, 67, 0.15);\n",
              "    fill: var(--button-hover-fill-color);\n",
              "  }\n",
              "\n",
              "  .colab-df-quickchart-complete:disabled,\n",
              "  .colab-df-quickchart-complete:disabled:hover {\n",
              "    background-color: var(--disabled-bg-color);\n",
              "    fill: var(--disabled-fill-color);\n",
              "    box-shadow: none;\n",
              "  }\n",
              "\n",
              "  .colab-df-spinner {\n",
              "    border: 2px solid var(--fill-color);\n",
              "    border-color: transparent;\n",
              "    border-bottom-color: var(--fill-color);\n",
              "    animation:\n",
              "      spin 1s steps(1) infinite;\n",
              "  }\n",
              "\n",
              "  @keyframes spin {\n",
              "    0% {\n",
              "      border-color: transparent;\n",
              "      border-bottom-color: var(--fill-color);\n",
              "      border-left-color: var(--fill-color);\n",
              "    }\n",
              "    20% {\n",
              "      border-color: transparent;\n",
              "      border-left-color: var(--fill-color);\n",
              "      border-top-color: var(--fill-color);\n",
              "    }\n",
              "    30% {\n",
              "      border-color: transparent;\n",
              "      border-left-color: var(--fill-color);\n",
              "      border-top-color: var(--fill-color);\n",
              "      border-right-color: var(--fill-color);\n",
              "    }\n",
              "    40% {\n",
              "      border-color: transparent;\n",
              "      border-right-color: var(--fill-color);\n",
              "      border-top-color: var(--fill-color);\n",
              "    }\n",
              "    60% {\n",
              "      border-color: transparent;\n",
              "      border-right-color: var(--fill-color);\n",
              "    }\n",
              "    80% {\n",
              "      border-color: transparent;\n",
              "      border-right-color: var(--fill-color);\n",
              "      border-bottom-color: var(--fill-color);\n",
              "    }\n",
              "    90% {\n",
              "      border-color: transparent;\n",
              "      border-bottom-color: var(--fill-color);\n",
              "    }\n",
              "  }\n",
              "</style>\n",
              "\n",
              "  <script>\n",
              "    async function quickchart(key) {\n",
              "      const quickchartButtonEl =\n",
              "        document.querySelector('#' + key + ' button');\n",
              "      quickchartButtonEl.disabled = true;  // To prevent multiple clicks.\n",
              "      quickchartButtonEl.classList.add('colab-df-spinner');\n",
              "      try {\n",
              "        const charts = await google.colab.kernel.invokeFunction(\n",
              "            'suggestCharts', [key], {});\n",
              "      } catch (error) {\n",
              "        console.error('Error during call to suggestCharts:', error);\n",
              "      }\n",
              "      quickchartButtonEl.classList.remove('colab-df-spinner');\n",
              "      quickchartButtonEl.classList.add('colab-df-quickchart-complete');\n",
              "    }\n",
              "    (() => {\n",
              "      let quickchartButtonEl =\n",
              "        document.querySelector('#df-71147b79-b0f4-4b82-bcfc-e83a9a6dab17 button');\n",
              "      quickchartButtonEl.style.display =\n",
              "        google.colab.kernel.accessAllowed ? 'block' : 'none';\n",
              "    })();\n",
              "  </script>\n",
              "</div>\n",
              "\n",
              "    </div>\n",
              "  </div>\n"
            ],
            "application/vnd.google.colaboratory.intrinsic+json": {
              "type": "dataframe",
              "summary": "{\n  \"name\": \"a\",\n  \"rows\": 8,\n  \"fields\": [\n    {\n      \"column\": \"Pregnancies\",\n      \"properties\": {\n        \"dtype\": \"number\",\n        \"std\": 269.85223453356366,\n        \"min\": 0.0,\n        \"max\": 768.0,\n        \"num_unique_values\": 8,\n        \"samples\": [\n          3.8450520833333335,\n          3.0,\n          768.0\n        ],\n        \"semantic_type\": \"\",\n        \"description\": \"\"\n      }\n    },\n    {\n      \"column\": \"Glucose\",\n      \"properties\": {\n        \"dtype\": \"number\",\n        \"std\": 243.73802348295857,\n        \"min\": 0.0,\n        \"max\": 768.0,\n        \"num_unique_values\": 8,\n        \"samples\": [\n          120.89453125,\n          117.0,\n          768.0\n        ],\n        \"semantic_type\": \"\",\n        \"description\": \"\"\n      }\n    },\n    {\n      \"column\": \"BloodPressure\",\n      \"properties\": {\n        \"dtype\": \"number\",\n        \"std\": 252.8525053581062,\n        \"min\": 0.0,\n        \"max\": 768.0,\n        \"num_unique_values\": 8,\n        \"samples\": [\n          69.10546875,\n          72.0,\n          768.0\n        ],\n        \"semantic_type\": \"\",\n        \"description\": \"\"\n      }\n    },\n    {\n      \"column\": \"SkinThickness\",\n      \"properties\": {\n        \"dtype\": \"number\",\n        \"std\": 263.7684730531098,\n        \"min\": 0.0,\n        \"max\": 768.0,\n        \"num_unique_values\": 7,\n        \"samples\": [\n          768.0,\n          20.536458333333332,\n          32.0\n        ],\n        \"semantic_type\": \"\",\n        \"description\": \"\"\n      }\n    },\n    {\n      \"column\": \"Insulin\",\n      \"properties\": {\n        \"dtype\": \"number\",\n        \"std\": 350.26059167945886,\n        \"min\": 0.0,\n        \"max\": 846.0,\n        \"num_unique_values\": 7,\n        \"samples\": [\n          768.0,\n          79.79947916666667,\n          127.25\n        ],\n        \"semantic_type\": \"\",\n        \"description\": \"\"\n      }\n    },\n    {\n      \"column\": \"BMI\",\n      \"properties\": {\n        \"dtype\": \"number\",\n        \"std\": 262.05117817552093,\n        \"min\": 0.0,\n        \"max\": 768.0,\n        \"num_unique_values\": 8,\n        \"samples\": [\n          31.992578124999998,\n          32.0,\n          768.0\n        ],\n        \"semantic_type\": \"\",\n        \"description\": \"\"\n      }\n    },\n    {\n      \"column\": \"DiabetesPedigreeFunction\",\n      \"properties\": {\n        \"dtype\": \"number\",\n        \"std\": 271.3005221658502,\n        \"min\": 0.078,\n        \"max\": 768.0,\n        \"num_unique_values\": 8,\n        \"samples\": [\n          0.47187630208333325,\n          0.3725,\n          768.0\n        ],\n        \"semantic_type\": \"\",\n        \"description\": \"\"\n      }\n    },\n    {\n      \"column\": \"Age\",\n      \"properties\": {\n        \"dtype\": \"number\",\n        \"std\": 260.1941178528413,\n        \"min\": 11.760231540678685,\n        \"max\": 768.0,\n        \"num_unique_values\": 8,\n        \"samples\": [\n          33.240885416666664,\n          29.0,\n          768.0\n        ],\n        \"semantic_type\": \"\",\n        \"description\": \"\"\n      }\n    },\n    {\n      \"column\": \"Outcome\",\n      \"properties\": {\n        \"dtype\": \"number\",\n        \"std\": 271.3865920388932,\n        \"min\": 0.0,\n        \"max\": 768.0,\n        \"num_unique_values\": 5,\n        \"samples\": [\n          0.3489583333333333,\n          1.0,\n          0.47695137724279896\n        ],\n        \"semantic_type\": \"\",\n        \"description\": \"\"\n      }\n    }\n  ]\n}"
            }
          },
          "metadata": {},
          "execution_count": 7
        }
      ]
    },
    {
      "cell_type": "code",
      "source": [
        "dataset=a.values\n",
        "print(dataset.shape)"
      ],
      "metadata": {
        "id": "PjlaQ9HJqIn3",
        "colab": {
          "base_uri": "https://localhost:8080/"
        },
        "outputId": "52846bc6-d2d1-496c-b614-2c7aa70f7707"
      },
      "execution_count": null,
      "outputs": [
        {
          "output_type": "stream",
          "name": "stdout",
          "text": [
            "(768, 9)\n"
          ]
        }
      ]
    },
    {
      "cell_type": "markdown",
      "source": [
        "\":\" means select all"
      ],
      "metadata": {
        "id": "kNGcpr0p4_jR"
      }
    },
    {
      "cell_type": "code",
      "source": [
        "x=dataset[:,0:8]\n",
        "y=dataset[:,8].astype(int)\n",
        "print(x.shape)\n",
        "print(y.shape,'\\n')\n",
        "print(y)\n",
        "print(x)"
      ],
      "metadata": {
        "id": "k5SKzaV5qIlr",
        "colab": {
          "base_uri": "https://localhost:8080/"
        },
        "outputId": "4ae4864f-d57e-458e-c57a-9b36cfba7bf6"
      },
      "execution_count": null,
      "outputs": [
        {
          "output_type": "stream",
          "name": "stdout",
          "text": [
            "(768, 8)\n",
            "(768,) \n",
            "\n",
            "[1 0 1 0 1 0 1 0 1 1 0 1 0 1 1 1 1 1 0 1 0 0 1 1 1 1 1 0 0 0 0 1 0 0 0 0 0\n",
            " 1 1 1 0 0 0 1 0 1 0 0 1 0 0 0 0 1 0 0 1 0 0 0 0 1 0 0 1 0 1 0 0 0 1 0 1 0\n",
            " 0 0 0 0 1 0 0 0 0 0 1 0 0 0 1 0 0 0 0 1 0 0 0 0 0 1 1 0 0 0 0 0 0 0 0 1 1\n",
            " 1 0 0 1 1 1 0 0 0 1 0 0 0 1 1 0 0 1 1 1 1 1 0 0 0 0 0 0 0 0 0 0 1 0 0 0 0\n",
            " 0 0 0 0 1 0 1 1 0 0 0 1 0 0 0 0 1 1 0 0 0 0 1 1 0 0 0 1 0 1 0 1 0 0 0 0 0\n",
            " 1 1 1 1 1 0 0 1 1 0 1 0 1 1 1 0 0 0 0 0 0 1 1 0 1 0 0 0 1 1 1 1 0 1 1 1 1\n",
            " 0 0 0 0 0 1 0 0 1 1 0 0 0 1 1 1 1 0 0 0 1 1 0 1 0 0 0 0 0 0 0 0 1 1 0 0 0\n",
            " 1 0 1 0 0 1 0 1 0 0 1 1 0 0 0 0 0 1 0 0 0 1 0 0 1 1 0 0 1 0 0 0 1 1 1 0 0\n",
            " 1 0 1 0 1 1 0 1 0 0 1 0 1 1 0 0 1 0 1 0 0 1 0 1 0 1 1 1 0 0 1 0 1 0 0 0 1\n",
            " 0 0 0 0 1 1 1 0 0 0 0 0 0 0 0 0 1 0 0 0 0 0 1 1 1 0 1 1 0 0 1 0 0 1 0 0 1\n",
            " 1 0 0 0 0 1 0 0 1 0 0 0 0 0 0 0 1 1 1 0 0 1 0 0 1 0 0 1 0 1 1 0 1 0 1 0 1\n",
            " 0 1 1 0 0 0 0 1 1 0 1 0 1 0 0 0 0 1 1 0 1 0 1 0 0 0 0 0 1 0 0 0 0 1 0 0 1\n",
            " 1 1 0 0 1 0 0 1 0 0 0 1 0 0 1 0 0 0 0 0 0 0 0 0 1 0 0 0 0 0 0 0 1 0 0 0 1\n",
            " 0 0 0 1 1 0 0 0 0 0 0 0 1 0 0 0 0 1 0 0 0 1 0 0 0 1 0 0 0 1 0 0 0 0 1 1 0\n",
            " 0 0 0 0 0 1 0 0 0 0 0 0 0 0 0 0 0 1 0 0 0 1 1 1 1 0 0 1 1 0 0 0 0 0 0 0 0\n",
            " 0 0 0 0 0 1 1 0 0 0 0 0 0 0 1 0 0 0 0 0 0 0 1 0 1 1 0 0 0 1 0 1 0 1 0 1 0\n",
            " 1 0 0 1 0 0 1 0 0 0 0 1 1 0 1 0 0 0 0 1 1 0 1 0 0 0 1 1 0 0 0 0 0 0 0 0 0\n",
            " 0 1 0 0 0 0 1 0 0 1 0 0 0 1 0 0 0 1 1 1 0 0 0 0 0 0 1 0 0 0 1 0 1 1 1 1 0\n",
            " 1 1 0 0 0 0 0 0 0 1 1 0 1 0 0 1 0 1 0 0 0 0 0 1 0 1 0 1 0 1 1 0 0 0 0 1 1\n",
            " 0 0 0 1 0 1 1 0 0 1 0 0 1 1 0 0 1 0 0 1 0 0 0 0 0 0 0 1 1 1 0 0 0 0 0 0 1\n",
            " 1 0 0 1 0 0 1 0 1 1 1 0 0 1 1 1 0 1 0 1 0 1 0 0 0 0 1 0]\n",
            "[[  6.    148.     72.    ...  33.6     0.627  50.   ]\n",
            " [  1.     85.     66.    ...  26.6     0.351  31.   ]\n",
            " [  8.    183.     64.    ...  23.3     0.672  32.   ]\n",
            " ...\n",
            " [  5.    121.     72.    ...  26.2     0.245  30.   ]\n",
            " [  1.    126.     60.    ...  30.1     0.349  47.   ]\n",
            " [  1.     93.     70.    ...  30.4     0.315  23.   ]]\n"
          ]
        }
      ]
    },
    {
      "cell_type": "code",
      "source": [
        "from sklearn.preprocessing import StandardScaler\n",
        "scaler=StandardScaler().fit(x)\n",
        "x_standarized=scaler.transform(x)\n",
        "print(x_standarized)"
      ],
      "metadata": {
        "id": "0vlpCqWt50Lr",
        "colab": {
          "base_uri": "https://localhost:8080/"
        },
        "outputId": "a5b73229-bcc7-40c9-a77c-edc9cba36b27"
      },
      "execution_count": null,
      "outputs": [
        {
          "output_type": "stream",
          "name": "stdout",
          "text": [
            "[[ 0.63994726  0.84832379  0.14964075 ...  0.20401277  0.46849198\n",
            "   1.4259954 ]\n",
            " [-0.84488505 -1.12339636 -0.16054575 ... -0.68442195 -0.36506078\n",
            "  -0.19067191]\n",
            " [ 1.23388019  1.94372388 -0.26394125 ... -1.10325546  0.60439732\n",
            "  -0.10558415]\n",
            " ...\n",
            " [ 0.3429808   0.00330087  0.14964075 ... -0.73518964 -0.68519336\n",
            "  -0.27575966]\n",
            " [-0.84488505  0.1597866  -0.47073225 ... -0.24020459 -0.37110101\n",
            "   1.17073215]\n",
            " [-0.84488505 -0.8730192   0.04624525 ... -0.20212881 -0.47378505\n",
            "  -0.87137393]]\n"
          ]
        }
      ]
    },
    {
      "cell_type": "code",
      "source": [
        "np.random.seed(4)\n",
        "r=np.random.random(6)\n",
        "r"
      ],
      "metadata": {
        "id": "MIDDkt0Z2mPK",
        "colab": {
          "base_uri": "https://localhost:8080/"
        },
        "outputId": "8be03a8f-1efe-4858-8339-73df6ddb5159"
      },
      "execution_count": null,
      "outputs": [
        {
          "output_type": "execute_result",
          "data": {
            "text/plain": [
              "array([0.96702984, 0.54723225, 0.97268436, 0.71481599, 0.69772882,\n",
              "       0.2160895 ])"
            ]
          },
          "metadata": {},
          "execution_count": 11
        }
      ]
    },
    {
      "cell_type": "markdown",
      "source": [
        "standard scalar is a method of normalization(0-1) of data.\n",
        "0 mean and 1 standard deviation"
      ],
      "metadata": {
        "id": "go4OpIzI6WO0"
      }
    },
    {
      "cell_type": "code",
      "source": [
        "#from sklearn.model_selection import train_test_split\n",
        "#x_train,x_test,y1_train,y1_test=train_test_split(x_standarized,y,test_size=0.20,random_state=23)\n"
      ],
      "metadata": {
        "id": "wcQXp5vd7XOz"
      },
      "execution_count": null,
      "outputs": []
    },
    {
      "cell_type": "code",
      "source": [
        "from sklearn.model_selection import train_test_split\n",
        "X_train,X_test,y_train,y_test=train_test_split(x_standarized,y,test_size=0.25,random_state=23)\n",
        "#25 testing and 75 training"
      ],
      "metadata": {
        "id": "wtYutVK56ROd"
      },
      "execution_count": null,
      "outputs": []
    },
    {
      "cell_type": "code",
      "source": [
        "X_train.shape"
      ],
      "metadata": {
        "id": "d2y5bhb16arn",
        "colab": {
          "base_uri": "https://localhost:8080/"
        },
        "outputId": "f08ea5e6-2ffe-4eb5-c887-4a6963ec1bfb"
      },
      "execution_count": null,
      "outputs": [
        {
          "output_type": "execute_result",
          "data": {
            "text/plain": [
              "(576, 8)"
            ]
          },
          "metadata": {},
          "execution_count": 14
        }
      ]
    },
    {
      "cell_type": "code",
      "source": [
        "y_test.shape\n"
      ],
      "metadata": {
        "id": "0pMpmLvt6k2O",
        "colab": {
          "base_uri": "https://localhost:8080/"
        },
        "outputId": "d20383ea-d92f-49aa-a906-0086eaf4b7de"
      },
      "execution_count": null,
      "outputs": [
        {
          "output_type": "execute_result",
          "data": {
            "text/plain": [
              "(192,)"
            ]
          },
          "metadata": {},
          "execution_count": 15
        }
      ]
    },
    {
      "cell_type": "code",
      "source": [
        "X_train.shape\n"
      ],
      "metadata": {
        "id": "4cHvc3tB50OF",
        "colab": {
          "base_uri": "https://localhost:8080/"
        },
        "outputId": "f6a787c3-b411-4bb4-9130-5e5208073cc0"
      },
      "execution_count": null,
      "outputs": [
        {
          "output_type": "execute_result",
          "data": {
            "text/plain": [
              "(576, 8)"
            ]
          },
          "metadata": {},
          "execution_count": 16
        }
      ]
    },
    {
      "cell_type": "code",
      "source": [
        "y_train.shape\n"
      ],
      "metadata": {
        "id": "TV4HQFpc8xUw",
        "colab": {
          "base_uri": "https://localhost:8080/"
        },
        "outputId": "d02e779b-dd50-4dca-ab2e-68a48197444a"
      },
      "execution_count": null,
      "outputs": [
        {
          "output_type": "execute_result",
          "data": {
            "text/plain": [
              "(576,)"
            ]
          },
          "metadata": {},
          "execution_count": 17
        }
      ]
    },
    {
      "cell_type": "code",
      "source": [
        "y_test.shape\n"
      ],
      "metadata": {
        "id": "f1qfiq0A50Qs",
        "colab": {
          "base_uri": "https://localhost:8080/"
        },
        "outputId": "f2fec42e-1268-47bf-a0dc-77f561523e93"
      },
      "execution_count": null,
      "outputs": [
        {
          "output_type": "execute_result",
          "data": {
            "text/plain": [
              "(192,)"
            ]
          },
          "metadata": {},
          "execution_count": 18
        }
      ]
    },
    {
      "cell_type": "markdown",
      "source": [
        "creating a DL model with keras framework"
      ],
      "metadata": {
        "id": "ruV8fk6yAsUz"
      }
    },
    {
      "cell_type": "code",
      "source": [
        "from keras.models import Sequential\n",
        "from keras.layers import Dense\n",
        "from keras.layers import Input\n",
        "\n",
        "#model\n",
        "model=Sequential()\n",
        "\n",
        "#input\n",
        "model.add(Input(shape=(8,),name='INPUT'))\n",
        "\n",
        "#hidden layer\n",
        "\n",
        "model.add(Dense(units=3,activation='relu',name='HIDDEN'))\n",
        "\n",
        "#output\n",
        "model.add(Dense(units=2,activation='sigmoid',name='OUTPUT'))\n"
      ],
      "metadata": {
        "id": "8kcrliHA50S8"
      },
      "execution_count": null,
      "outputs": []
    },
    {
      "cell_type": "code",
      "source": [
        "model.summary()"
      ],
      "metadata": {
        "id": "UaW-A-0950Wl",
        "colab": {
          "base_uri": "https://localhost:8080/"
        },
        "outputId": "269cce73-c304-4b8e-9ee8-82626e37e2a9"
      },
      "execution_count": null,
      "outputs": [
        {
          "output_type": "stream",
          "name": "stdout",
          "text": [
            "Model: \"sequential\"\n",
            "_________________________________________________________________\n",
            " Layer (type)                Output Shape              Param #   \n",
            "=================================================================\n",
            " HIDDEN (Dense)              (None, 3)                 27        \n",
            "                                                                 \n",
            " OUTPUT (Dense)              (None, 2)                 8         \n",
            "                                                                 \n",
            "=================================================================\n",
            "Total params: 35 (140.00 Byte)\n",
            "Trainable params: 35 (140.00 Byte)\n",
            "Non-trainable params: 0 (0.00 Byte)\n",
            "_________________________________________________________________\n"
          ]
        }
      ]
    },
    {
      "source": [
        "from keras.utils import plot_model\n",
        "plot_model(model, to_file='MODEL_PLOT.png', show_shapes=True, show_layer_names=True)"
      ],
      "cell_type": "code",
      "metadata": {
        "id": "3x_q-we9CENC",
        "colab": {
          "base_uri": "https://localhost:8080/",
          "height": 312
        },
        "outputId": "42b334eb-55f1-42f9-c5c3-46db32a9512a"
      },
      "execution_count": null,
      "outputs": [
        {
          "output_type": "execute_result",
          "data": {
            "image/png": "[encoded data removed]",
            "text/plain": [
              "<IPython.core.display.Image object>"
            ]
          },
          "metadata": {},
          "execution_count": 21
        }
      ]
    },
    {
      "cell_type": "code",
      "source": [
        "from keras .utils import to_categorical\n",
        "y_t=to_categorical(y_train)\n",
        "y_t2=to_categorical(y_test)"
      ],
      "metadata": {
        "id": "z2sWaNEAEWmj"
      },
      "execution_count": null,
      "outputs": []
    },
    {
      "cell_type": "code",
      "source": [
        "y_t.shape"
      ],
      "metadata": {
        "id": "3J3P9kEAEWHI",
        "colab": {
          "base_uri": "https://localhost:8080/"
        },
        "outputId": "bfd8e55f-bbf4-4aa8-901a-74490c50b2e4"
      },
      "execution_count": null,
      "outputs": [
        {
          "output_type": "execute_result",
          "data": {
            "text/plain": [
              "(576, 2)"
            ]
          },
          "metadata": {},
          "execution_count": 23
        }
      ]
    },
    {
      "source": [
        "model.compile(optimizer='adam', loss='categorical_crossentropy', metrics=['accuracy'])"
      ],
      "cell_type": "code",
      "metadata": {
        "id": "q1CNmoqpG7Rp"
      },
      "execution_count": null,
      "outputs": []
    },
    {
      "cell_type": "code",
      "source": [
        "y_t2.shape"
      ],
      "metadata": {
        "colab": {
          "base_uri": "https://localhost:8080/"
        },
        "id": "mFI-0O5lOZto",
        "outputId": "88fa2060-bb9f-49da-ad6f-aab39bc7665e"
      },
      "execution_count": null,
      "outputs": [
        {
          "output_type": "execute_result",
          "data": {
            "text/plain": [
              "(192, 2)"
            ]
          },
          "metadata": {},
          "execution_count": 25
        }
      ]
    },
    {
      "cell_type": "code",
      "source": [
        "model.fit(X_train,y_t,batch_size=10,epochs=100)"
      ],
      "metadata": {
        "id": "ozanHW1QF6L_",
        "colab": {
          "base_uri": "https://localhost:8080/"
        },
        "outputId": "256996d1-ef6c-4848-b438-f78f76b278f7"
      },
      "execution_count": null,
      "outputs": [
        {
          "output_type": "stream",
          "name": "stdout",
          "text": [
            "Epoch 1/100\n",
            "58/58 [==============================] - 1s 2ms/step - loss: 1.0168 - accuracy: 0.3576\n",
            "Epoch 2/100\n",
            "58/58 [==============================] - 0s 2ms/step - loss: 0.9131 - accuracy: 0.4288\n",
            "Epoch 3/100\n",
            "58/58 [==============================] - 0s 2ms/step - loss: 0.8422 - accuracy: 0.4774\n",
            "Epoch 4/100\n",
            "58/58 [==============================] - 0s 2ms/step - loss: 0.7919 - accuracy: 0.4983\n",
            "Epoch 5/100\n",
            "58/58 [==============================] - 0s 2ms/step - loss: 0.7549 - accuracy: 0.5243\n",
            "Epoch 6/100\n",
            "58/58 [==============================] - 0s 2ms/step - loss: 0.7270 - accuracy: 0.5434\n",
            "Epoch 7/100\n",
            "58/58 [==============================] - 0s 2ms/step - loss: 0.7059 - accuracy: 0.5590\n",
            "Epoch 8/100\n",
            "58/58 [==============================] - 0s 3ms/step - loss: 0.6894 - accuracy: 0.5799\n",
            "Epoch 9/100\n",
            "58/58 [==============================] - 0s 3ms/step - loss: 0.6758 - accuracy: 0.5955\n",
            "Epoch 10/100\n",
            "58/58 [==============================] - 0s 3ms/step - loss: 0.6631 - accuracy: 0.6233\n",
            "Epoch 11/100\n",
            "58/58 [==============================] - 0s 6ms/step - loss: 0.6504 - accuracy: 0.6302\n",
            "Epoch 12/100\n",
            "58/58 [==============================] - 1s 9ms/step - loss: 0.6376 - accuracy: 0.6424\n",
            "Epoch 13/100\n",
            "58/58 [==============================] - 0s 7ms/step - loss: 0.6249 - accuracy: 0.6441\n",
            "Epoch 14/100\n",
            "58/58 [==============================] - 0s 6ms/step - loss: 0.6129 - accuracy: 0.6510\n",
            "Epoch 15/100\n",
            "58/58 [==============================] - 0s 5ms/step - loss: 0.6024 - accuracy: 0.6528\n",
            "Epoch 16/100\n",
            "58/58 [==============================] - 1s 11ms/step - loss: 0.5932 - accuracy: 0.6562\n",
            "Epoch 17/100\n",
            "58/58 [==============================] - 1s 9ms/step - loss: 0.5835 - accuracy: 0.6562\n",
            "Epoch 18/100\n",
            "58/58 [==============================] - 0s 8ms/step - loss: 0.5753 - accuracy: 0.6562\n",
            "Epoch 19/100\n",
            "58/58 [==============================] - 0s 7ms/step - loss: 0.5679 - accuracy: 0.6580\n",
            "Epoch 20/100\n",
            "58/58 [==============================] - 0s 3ms/step - loss: 0.5609 - accuracy: 0.6545\n",
            "Epoch 21/100\n",
            "58/58 [==============================] - 0s 2ms/step - loss: 0.5544 - accuracy: 0.6510\n",
            "Epoch 22/100\n",
            "58/58 [==============================] - 0s 3ms/step - loss: 0.5486 - accuracy: 0.6476\n",
            "Epoch 23/100\n",
            "58/58 [==============================] - 0s 3ms/step - loss: 0.5439 - accuracy: 0.6476\n",
            "Epoch 24/100\n",
            "58/58 [==============================] - 0s 4ms/step - loss: 0.5390 - accuracy: 0.6510\n",
            "Epoch 25/100\n",
            "58/58 [==============================] - 0s 3ms/step - loss: 0.5350 - accuracy: 0.6545\n",
            "Epoch 26/100\n",
            "58/58 [==============================] - 0s 3ms/step - loss: 0.5314 - accuracy: 0.6528\n",
            "Epoch 27/100\n",
            "58/58 [==============================] - 0s 4ms/step - loss: 0.5282 - accuracy: 0.6632\n",
            "Epoch 28/100\n",
            "58/58 [==============================] - 0s 7ms/step - loss: 0.5255 - accuracy: 0.6632\n",
            "Epoch 29/100\n",
            "58/58 [==============================] - 0s 4ms/step - loss: 0.5229 - accuracy: 0.6615\n",
            "Epoch 30/100\n",
            "58/58 [==============================] - 0s 4ms/step - loss: 0.5206 - accuracy: 0.6649\n",
            "Epoch 31/100\n",
            "58/58 [==============================] - 0s 4ms/step - loss: 0.5184 - accuracy: 0.6684\n",
            "Epoch 32/100\n",
            "58/58 [==============================] - 0s 4ms/step - loss: 0.5164 - accuracy: 0.6684\n",
            "Epoch 33/100\n",
            "58/58 [==============================] - 0s 3ms/step - loss: 0.5146 - accuracy: 0.6753\n",
            "Epoch 34/100\n",
            "58/58 [==============================] - 0s 4ms/step - loss: 0.5125 - accuracy: 0.7517\n",
            "Epoch 35/100\n",
            "58/58 [==============================] - 0s 4ms/step - loss: 0.5108 - accuracy: 0.7552\n",
            "Epoch 36/100\n",
            "58/58 [==============================] - 0s 3ms/step - loss: 0.5092 - accuracy: 0.7587\n",
            "Epoch 37/100\n",
            "58/58 [==============================] - 0s 2ms/step - loss: 0.5081 - accuracy: 0.7569\n",
            "Epoch 38/100\n",
            "58/58 [==============================] - 0s 1ms/step - loss: 0.5060 - accuracy: 0.7587\n",
            "Epoch 39/100\n",
            "58/58 [==============================] - 0s 1ms/step - loss: 0.5046 - accuracy: 0.7552\n",
            "Epoch 40/100\n",
            "58/58 [==============================] - 0s 2ms/step - loss: 0.5031 - accuracy: 0.7517\n",
            "Epoch 41/100\n",
            "58/58 [==============================] - 0s 2ms/step - loss: 0.5013 - accuracy: 0.7517\n",
            "Epoch 42/100\n",
            "58/58 [==============================] - 0s 2ms/step - loss: 0.4999 - accuracy: 0.7500\n",
            "Epoch 43/100\n",
            "58/58 [==============================] - 0s 2ms/step - loss: 0.4988 - accuracy: 0.7413\n",
            "Epoch 44/100\n",
            "58/58 [==============================] - 0s 2ms/step - loss: 0.4969 - accuracy: 0.7431\n",
            "Epoch 45/100\n",
            "58/58 [==============================] - 0s 2ms/step - loss: 0.4958 - accuracy: 0.7465\n",
            "Epoch 46/100\n",
            "58/58 [==============================] - 0s 2ms/step - loss: 0.4949 - accuracy: 0.7465\n",
            "Epoch 47/100\n",
            "58/58 [==============================] - 0s 2ms/step - loss: 0.4932 - accuracy: 0.7500\n",
            "Epoch 48/100\n",
            "58/58 [==============================] - 0s 2ms/step - loss: 0.4919 - accuracy: 0.7552\n",
            "Epoch 49/100\n",
            "58/58 [==============================] - 0s 2ms/step - loss: 0.4910 - accuracy: 0.7517\n",
            "Epoch 50/100\n",
            "58/58 [==============================] - 0s 2ms/step - loss: 0.4895 - accuracy: 0.7587\n",
            "Epoch 51/100\n",
            "58/58 [==============================] - 0s 2ms/step - loss: 0.4886 - accuracy: 0.7552\n",
            "Epoch 52/100\n",
            "58/58 [==============================] - 0s 2ms/step - loss: 0.4878 - accuracy: 0.7552\n",
            "Epoch 53/100\n",
            "58/58 [==============================] - 0s 2ms/step - loss: 0.4866 - accuracy: 0.7569\n",
            "Epoch 54/100\n",
            "58/58 [==============================] - 0s 2ms/step - loss: 0.4856 - accuracy: 0.7656\n",
            "Epoch 55/100\n",
            "58/58 [==============================] - 0s 2ms/step - loss: 0.4847 - accuracy: 0.7639\n",
            "Epoch 56/100\n",
            "58/58 [==============================] - 0s 2ms/step - loss: 0.4840 - accuracy: 0.7604\n",
            "Epoch 57/100\n",
            "58/58 [==============================] - 0s 2ms/step - loss: 0.4833 - accuracy: 0.7674\n",
            "Epoch 58/100\n",
            "58/58 [==============================] - 0s 2ms/step - loss: 0.4824 - accuracy: 0.7622\n",
            "Epoch 59/100\n",
            "58/58 [==============================] - 0s 2ms/step - loss: 0.4814 - accuracy: 0.7656\n",
            "Epoch 60/100\n",
            "58/58 [==============================] - 0s 2ms/step - loss: 0.4808 - accuracy: 0.7622\n",
            "Epoch 61/100\n",
            "58/58 [==============================] - 0s 2ms/step - loss: 0.4801 - accuracy: 0.7656\n",
            "Epoch 62/100\n",
            "58/58 [==============================] - 0s 2ms/step - loss: 0.4800 - accuracy: 0.7674\n",
            "Epoch 63/100\n",
            "58/58 [==============================] - 0s 2ms/step - loss: 0.4789 - accuracy: 0.7639\n",
            "Epoch 64/100\n",
            "58/58 [==============================] - 0s 2ms/step - loss: 0.4786 - accuracy: 0.7604\n",
            "Epoch 65/100\n",
            "58/58 [==============================] - 0s 2ms/step - loss: 0.4780 - accuracy: 0.7622\n",
            "Epoch 66/100\n",
            "58/58 [==============================] - 0s 2ms/step - loss: 0.4768 - accuracy: 0.7639\n",
            "Epoch 67/100\n",
            "58/58 [==============================] - 0s 2ms/step - loss: 0.4766 - accuracy: 0.7656\n",
            "Epoch 68/100\n",
            "58/58 [==============================] - 0s 2ms/step - loss: 0.4760 - accuracy: 0.7656\n",
            "Epoch 69/100\n",
            "58/58 [==============================] - 0s 2ms/step - loss: 0.4753 - accuracy: 0.7674\n",
            "Epoch 70/100\n",
            "58/58 [==============================] - 0s 2ms/step - loss: 0.4748 - accuracy: 0.7674\n",
            "Epoch 71/100\n",
            "58/58 [==============================] - 0s 2ms/step - loss: 0.4743 - accuracy: 0.7674\n",
            "Epoch 72/100\n",
            "58/58 [==============================] - 0s 2ms/step - loss: 0.4740 - accuracy: 0.7639\n",
            "Epoch 73/100\n",
            "58/58 [==============================] - 0s 2ms/step - loss: 0.4734 - accuracy: 0.7639\n",
            "Epoch 74/100\n",
            "58/58 [==============================] - 0s 2ms/step - loss: 0.4729 - accuracy: 0.7674\n",
            "Epoch 75/100\n",
            "58/58 [==============================] - 0s 2ms/step - loss: 0.4729 - accuracy: 0.7656\n",
            "Epoch 76/100\n",
            "58/58 [==============================] - 0s 2ms/step - loss: 0.4725 - accuracy: 0.7674\n",
            "Epoch 77/100\n",
            "58/58 [==============================] - 0s 2ms/step - loss: 0.4717 - accuracy: 0.7656\n",
            "Epoch 78/100\n",
            "58/58 [==============================] - 0s 2ms/step - loss: 0.4709 - accuracy: 0.7656\n",
            "Epoch 79/100\n",
            "58/58 [==============================] - 0s 2ms/step - loss: 0.4707 - accuracy: 0.7674\n",
            "Epoch 80/100\n",
            "58/58 [==============================] - 0s 2ms/step - loss: 0.4701 - accuracy: 0.7674\n",
            "Epoch 81/100\n",
            "58/58 [==============================] - 0s 2ms/step - loss: 0.4696 - accuracy: 0.7674\n",
            "Epoch 82/100\n",
            "58/58 [==============================] - 0s 3ms/step - loss: 0.4691 - accuracy: 0.7639\n",
            "Epoch 83/100\n",
            "58/58 [==============================] - 0s 4ms/step - loss: 0.4687 - accuracy: 0.7656\n",
            "Epoch 84/100\n",
            "58/58 [==============================] - 0s 2ms/step - loss: 0.4684 - accuracy: 0.7656\n",
            "Epoch 85/100\n",
            "58/58 [==============================] - 0s 3ms/step - loss: 0.4683 - accuracy: 0.7656\n",
            "Epoch 86/100\n",
            "58/58 [==============================] - 0s 2ms/step - loss: 0.4677 - accuracy: 0.7639\n",
            "Epoch 87/100\n",
            "58/58 [==============================] - 0s 2ms/step - loss: 0.4676 - accuracy: 0.7639\n",
            "Epoch 88/100\n",
            "58/58 [==============================] - 0s 3ms/step - loss: 0.4669 - accuracy: 0.7656\n",
            "Epoch 89/100\n",
            "58/58 [==============================] - 0s 2ms/step - loss: 0.4665 - accuracy: 0.7691\n",
            "Epoch 90/100\n",
            "58/58 [==============================] - 0s 2ms/step - loss: 0.4664 - accuracy: 0.7639\n",
            "Epoch 91/100\n",
            "58/58 [==============================] - 0s 2ms/step - loss: 0.4656 - accuracy: 0.7656\n",
            "Epoch 92/100\n",
            "58/58 [==============================] - 0s 3ms/step - loss: 0.4655 - accuracy: 0.7639\n",
            "Epoch 93/100\n",
            "58/58 [==============================] - 0s 2ms/step - loss: 0.4650 - accuracy: 0.7622\n",
            "Epoch 94/100\n",
            "58/58 [==============================] - 0s 3ms/step - loss: 0.4652 - accuracy: 0.7656\n",
            "Epoch 95/100\n",
            "58/58 [==============================] - 0s 3ms/step - loss: 0.4643 - accuracy: 0.7674\n",
            "Epoch 96/100\n",
            "58/58 [==============================] - 0s 3ms/step - loss: 0.4644 - accuracy: 0.7622\n",
            "Epoch 97/100\n",
            "58/58 [==============================] - 0s 3ms/step - loss: 0.4641 - accuracy: 0.7639\n",
            "Epoch 98/100\n",
            "58/58 [==============================] - 0s 4ms/step - loss: 0.4640 - accuracy: 0.7674\n",
            "Epoch 99/100\n",
            "58/58 [==============================] - 0s 5ms/step - loss: 0.4635 - accuracy: 0.7639\n",
            "Epoch 100/100\n",
            "58/58 [==============================] - 0s 3ms/step - loss: 0.4631 - accuracy: 0.7656\n"
          ]
        },
        {
          "output_type": "execute_result",
          "data": {
            "text/plain": [
              "<keras.src.callbacks.History at 0x7fa952663280>"
            ]
          },
          "metadata": {},
          "execution_count": 26
        }
      ]
    },
    {
      "cell_type": "code",
      "source": [
        "history=model.fit(X_train,y_t,batch_size=10,epochs=100)"
      ],
      "metadata": {
        "colab": {
          "base_uri": "https://localhost:8080/"
        },
        "id": "IiQ5hE-dO1Mw",
        "outputId": "b65c1821-09cf-482d-dba5-7fde05582ccc"
      },
      "execution_count": null,
      "outputs": [
        {
          "output_type": "stream",
          "name": "stdout",
          "text": [
            "Epoch 1/100\n",
            "58/58 [==============================] - 0s 2ms/step - loss: 0.4629 - accuracy: 0.7639\n",
            "Epoch 2/100\n",
            "58/58 [==============================] - 0s 2ms/step - loss: 0.4629 - accuracy: 0.7691\n",
            "Epoch 3/100\n",
            "58/58 [==============================] - 0s 2ms/step - loss: 0.4628 - accuracy: 0.7674\n",
            "Epoch 4/100\n",
            "58/58 [==============================] - 0s 2ms/step - loss: 0.4625 - accuracy: 0.7743\n",
            "Epoch 5/100\n",
            "58/58 [==============================] - 0s 2ms/step - loss: 0.4624 - accuracy: 0.7708\n",
            "Epoch 6/100\n",
            "58/58 [==============================] - 0s 2ms/step - loss: 0.4619 - accuracy: 0.7674\n",
            "Epoch 7/100\n",
            "58/58 [==============================] - 0s 2ms/step - loss: 0.4620 - accuracy: 0.7674\n",
            "Epoch 8/100\n",
            "58/58 [==============================] - 0s 2ms/step - loss: 0.4618 - accuracy: 0.7674\n",
            "Epoch 9/100\n",
            "58/58 [==============================] - 0s 2ms/step - loss: 0.4616 - accuracy: 0.7691\n",
            "Epoch 10/100\n",
            "58/58 [==============================] - 0s 2ms/step - loss: 0.4614 - accuracy: 0.7691\n",
            "Epoch 11/100\n",
            "58/58 [==============================] - 0s 2ms/step - loss: 0.4615 - accuracy: 0.7656\n",
            "Epoch 12/100\n",
            "58/58 [==============================] - 0s 2ms/step - loss: 0.4612 - accuracy: 0.7708\n",
            "Epoch 13/100\n",
            "58/58 [==============================] - 0s 2ms/step - loss: 0.4612 - accuracy: 0.7656\n",
            "Epoch 14/100\n",
            "58/58 [==============================] - 0s 2ms/step - loss: 0.4611 - accuracy: 0.7656\n",
            "Epoch 15/100\n",
            "58/58 [==============================] - 0s 2ms/step - loss: 0.4613 - accuracy: 0.7674\n",
            "Epoch 16/100\n",
            "58/58 [==============================] - 0s 2ms/step - loss: 0.4609 - accuracy: 0.7656\n",
            "Epoch 17/100\n",
            "58/58 [==============================] - 0s 2ms/step - loss: 0.4605 - accuracy: 0.7656\n",
            "Epoch 18/100\n",
            "58/58 [==============================] - 0s 2ms/step - loss: 0.4608 - accuracy: 0.7674\n",
            "Epoch 19/100\n",
            "58/58 [==============================] - 0s 2ms/step - loss: 0.4602 - accuracy: 0.7639\n",
            "Epoch 20/100\n",
            "58/58 [==============================] - 0s 2ms/step - loss: 0.4604 - accuracy: 0.7656\n",
            "Epoch 21/100\n",
            "58/58 [==============================] - 0s 2ms/step - loss: 0.4602 - accuracy: 0.7708\n",
            "Epoch 22/100\n",
            "58/58 [==============================] - 0s 2ms/step - loss: 0.4600 - accuracy: 0.7656\n",
            "Epoch 23/100\n",
            "58/58 [==============================] - 0s 2ms/step - loss: 0.4601 - accuracy: 0.7691\n",
            "Epoch 24/100\n",
            "58/58 [==============================] - 0s 2ms/step - loss: 0.4596 - accuracy: 0.7708\n",
            "Epoch 25/100\n",
            "58/58 [==============================] - 0s 2ms/step - loss: 0.4599 - accuracy: 0.7674\n",
            "Epoch 26/100\n",
            "58/58 [==============================] - 0s 2ms/step - loss: 0.4599 - accuracy: 0.7656\n",
            "Epoch 27/100\n",
            "58/58 [==============================] - 0s 2ms/step - loss: 0.4597 - accuracy: 0.7674\n",
            "Epoch 28/100\n",
            "58/58 [==============================] - 0s 2ms/step - loss: 0.4595 - accuracy: 0.7656\n",
            "Epoch 29/100\n",
            "58/58 [==============================] - 0s 2ms/step - loss: 0.4593 - accuracy: 0.7674\n",
            "Epoch 30/100\n",
            "58/58 [==============================] - 0s 2ms/step - loss: 0.4592 - accuracy: 0.7674\n",
            "Epoch 31/100\n",
            "58/58 [==============================] - 0s 2ms/step - loss: 0.4590 - accuracy: 0.7656\n",
            "Epoch 32/100\n",
            "58/58 [==============================] - 0s 2ms/step - loss: 0.4594 - accuracy: 0.7726\n",
            "Epoch 33/100\n",
            "58/58 [==============================] - 0s 2ms/step - loss: 0.4592 - accuracy: 0.7691\n",
            "Epoch 34/100\n",
            "58/58 [==============================] - 0s 3ms/step - loss: 0.4589 - accuracy: 0.7708\n",
            "Epoch 35/100\n",
            "58/58 [==============================] - 0s 2ms/step - loss: 0.4590 - accuracy: 0.7726\n",
            "Epoch 36/100\n",
            "58/58 [==============================] - 0s 2ms/step - loss: 0.4588 - accuracy: 0.7708\n",
            "Epoch 37/100\n",
            "58/58 [==============================] - 0s 2ms/step - loss: 0.4588 - accuracy: 0.7691\n",
            "Epoch 38/100\n",
            "58/58 [==============================] - 0s 1ms/step - loss: 0.4586 - accuracy: 0.7726\n",
            "Epoch 39/100\n",
            "58/58 [==============================] - 0s 2ms/step - loss: 0.4584 - accuracy: 0.7743\n",
            "Epoch 40/100\n",
            "58/58 [==============================] - 0s 1ms/step - loss: 0.4589 - accuracy: 0.7726\n",
            "Epoch 41/100\n",
            "58/58 [==============================] - 0s 1ms/step - loss: 0.4585 - accuracy: 0.7726\n",
            "Epoch 42/100\n",
            "58/58 [==============================] - 0s 2ms/step - loss: 0.4582 - accuracy: 0.7743\n",
            "Epoch 43/100\n",
            "58/58 [==============================] - 0s 1ms/step - loss: 0.4587 - accuracy: 0.7743\n",
            "Epoch 44/100\n",
            "58/58 [==============================] - 0s 2ms/step - loss: 0.4587 - accuracy: 0.7708\n",
            "Epoch 45/100\n",
            "58/58 [==============================] - 0s 1ms/step - loss: 0.4582 - accuracy: 0.7743\n",
            "Epoch 46/100\n",
            "58/58 [==============================] - 0s 2ms/step - loss: 0.4582 - accuracy: 0.7726\n",
            "Epoch 47/100\n",
            "58/58 [==============================] - 0s 2ms/step - loss: 0.4577 - accuracy: 0.7743\n",
            "Epoch 48/100\n",
            "58/58 [==============================] - 0s 2ms/step - loss: 0.4575 - accuracy: 0.7743\n",
            "Epoch 49/100\n",
            "58/58 [==============================] - 0s 2ms/step - loss: 0.4575 - accuracy: 0.7726\n",
            "Epoch 50/100\n",
            "58/58 [==============================] - 0s 2ms/step - loss: 0.4576 - accuracy: 0.7743\n",
            "Epoch 51/100\n",
            "58/58 [==============================] - 0s 2ms/step - loss: 0.4575 - accuracy: 0.7743\n",
            "Epoch 52/100\n",
            "58/58 [==============================] - 0s 2ms/step - loss: 0.4576 - accuracy: 0.7743\n",
            "Epoch 53/100\n",
            "58/58 [==============================] - 0s 2ms/step - loss: 0.4577 - accuracy: 0.7760\n",
            "Epoch 54/100\n",
            "58/58 [==============================] - 0s 2ms/step - loss: 0.4573 - accuracy: 0.7760\n",
            "Epoch 55/100\n",
            "58/58 [==============================] - 0s 2ms/step - loss: 0.4571 - accuracy: 0.7743\n",
            "Epoch 56/100\n",
            "58/58 [==============================] - 0s 2ms/step - loss: 0.4571 - accuracy: 0.7743\n",
            "Epoch 57/100\n",
            "58/58 [==============================] - 0s 2ms/step - loss: 0.4572 - accuracy: 0.7760\n",
            "Epoch 58/100\n",
            "58/58 [==============================] - 0s 2ms/step - loss: 0.4569 - accuracy: 0.7778\n",
            "Epoch 59/100\n",
            "58/58 [==============================] - 0s 3ms/step - loss: 0.4574 - accuracy: 0.7743\n",
            "Epoch 60/100\n",
            "58/58 [==============================] - 0s 3ms/step - loss: 0.4569 - accuracy: 0.7778\n",
            "Epoch 61/100\n",
            "58/58 [==============================] - 0s 4ms/step - loss: 0.4569 - accuracy: 0.7760\n",
            "Epoch 62/100\n",
            "58/58 [==============================] - 0s 3ms/step - loss: 0.4568 - accuracy: 0.7778\n",
            "Epoch 63/100\n",
            "58/58 [==============================] - 0s 3ms/step - loss: 0.4567 - accuracy: 0.7760\n",
            "Epoch 64/100\n",
            "58/58 [==============================] - 0s 3ms/step - loss: 0.4567 - accuracy: 0.7760\n",
            "Epoch 65/100\n",
            "58/58 [==============================] - 0s 3ms/step - loss: 0.4572 - accuracy: 0.7778\n",
            "Epoch 66/100\n",
            "58/58 [==============================] - 0s 3ms/step - loss: 0.4565 - accuracy: 0.7778\n",
            "Epoch 67/100\n",
            "58/58 [==============================] - 0s 3ms/step - loss: 0.4565 - accuracy: 0.7760\n",
            "Epoch 68/100\n",
            "58/58 [==============================] - 0s 3ms/step - loss: 0.4566 - accuracy: 0.7743\n",
            "Epoch 69/100\n",
            "58/58 [==============================] - 0s 3ms/step - loss: 0.4558 - accuracy: 0.7760\n",
            "Epoch 70/100\n",
            "58/58 [==============================] - 0s 3ms/step - loss: 0.4559 - accuracy: 0.7812\n",
            "Epoch 71/100\n",
            "58/58 [==============================] - 0s 3ms/step - loss: 0.4560 - accuracy: 0.7795\n",
            "Epoch 72/100\n",
            "58/58 [==============================] - 0s 3ms/step - loss: 0.4562 - accuracy: 0.7760\n",
            "Epoch 73/100\n",
            "58/58 [==============================] - 0s 3ms/step - loss: 0.4560 - accuracy: 0.7760\n",
            "Epoch 74/100\n",
            "58/58 [==============================] - 0s 3ms/step - loss: 0.4557 - accuracy: 0.7760\n",
            "Epoch 75/100\n",
            "58/58 [==============================] - 0s 2ms/step - loss: 0.4554 - accuracy: 0.7795\n",
            "Epoch 76/100\n",
            "58/58 [==============================] - 0s 2ms/step - loss: 0.4562 - accuracy: 0.7795\n",
            "Epoch 77/100\n",
            "58/58 [==============================] - 0s 2ms/step - loss: 0.4559 - accuracy: 0.7778\n",
            "Epoch 78/100\n",
            "58/58 [==============================] - 0s 2ms/step - loss: 0.4552 - accuracy: 0.7760\n",
            "Epoch 79/100\n",
            "58/58 [==============================] - 0s 2ms/step - loss: 0.4555 - accuracy: 0.7760\n",
            "Epoch 80/100\n",
            "58/58 [==============================] - 0s 2ms/step - loss: 0.4554 - accuracy: 0.7760\n",
            "Epoch 81/100\n",
            "58/58 [==============================] - 0s 2ms/step - loss: 0.4552 - accuracy: 0.7795\n",
            "Epoch 82/100\n",
            "58/58 [==============================] - 0s 2ms/step - loss: 0.4550 - accuracy: 0.7795\n",
            "Epoch 83/100\n",
            "58/58 [==============================] - 0s 2ms/step - loss: 0.4554 - accuracy: 0.7830\n",
            "Epoch 84/100\n",
            "58/58 [==============================] - 0s 2ms/step - loss: 0.4553 - accuracy: 0.7778\n",
            "Epoch 85/100\n",
            "58/58 [==============================] - 0s 2ms/step - loss: 0.4552 - accuracy: 0.7778\n",
            "Epoch 86/100\n",
            "58/58 [==============================] - 0s 2ms/step - loss: 0.4548 - accuracy: 0.7778\n",
            "Epoch 87/100\n",
            "58/58 [==============================] - 0s 2ms/step - loss: 0.4549 - accuracy: 0.7795\n",
            "Epoch 88/100\n",
            "58/58 [==============================] - 0s 2ms/step - loss: 0.4549 - accuracy: 0.7778\n",
            "Epoch 89/100\n",
            "58/58 [==============================] - 0s 2ms/step - loss: 0.4547 - accuracy: 0.7830\n",
            "Epoch 90/100\n",
            "58/58 [==============================] - 0s 2ms/step - loss: 0.4550 - accuracy: 0.7830\n",
            "Epoch 91/100\n",
            "58/58 [==============================] - 0s 2ms/step - loss: 0.4546 - accuracy: 0.7795\n",
            "Epoch 92/100\n",
            "58/58 [==============================] - 0s 2ms/step - loss: 0.4548 - accuracy: 0.7812\n",
            "Epoch 93/100\n",
            "58/58 [==============================] - 0s 2ms/step - loss: 0.4552 - accuracy: 0.7812\n",
            "Epoch 94/100\n",
            "58/58 [==============================] - 0s 2ms/step - loss: 0.4546 - accuracy: 0.7812\n",
            "Epoch 95/100\n",
            "58/58 [==============================] - 0s 2ms/step - loss: 0.4544 - accuracy: 0.7812\n",
            "Epoch 96/100\n",
            "58/58 [==============================] - 0s 2ms/step - loss: 0.4542 - accuracy: 0.7830\n",
            "Epoch 97/100\n",
            "58/58 [==============================] - 0s 2ms/step - loss: 0.4545 - accuracy: 0.7830\n",
            "Epoch 98/100\n",
            "58/58 [==============================] - 0s 2ms/step - loss: 0.4547 - accuracy: 0.7812\n",
            "Epoch 99/100\n",
            "58/58 [==============================] - 0s 2ms/step - loss: 0.4545 - accuracy: 0.7830\n",
            "Epoch 100/100\n",
            "58/58 [==============================] - 0s 2ms/step - loss: 0.4540 - accuracy: 0.7795\n"
          ]
        }
      ]
    },
    {
      "cell_type": "code",
      "source": [
        "import matplotlib.pyplot as plt\n",
        "plt.plot(history.history['accuracy'])\n",
        "plt.plot(history.history['loss'])"
      ],
      "metadata": {
        "colab": {
          "base_uri": "https://localhost:8080/",
          "height": 447
        },
        "id": "UiMwE2PwKbK6",
        "outputId": "fcbcfa06-4fbe-4df7-82ad-ec36097c242a"
      },
      "execution_count": null,
      "outputs": [
        {
          "output_type": "execute_result",
          "data": {
            "text/plain": [
              "[<matplotlib.lines.Line2D at 0x7fa951b4a770>]"
            ]
          },
          "metadata": {},
          "execution_count": 28
        },
        {
          "output_type": "display_data",
          "data": {
            "text/plain": [
              "<Figure size 640x480 with 1 Axes>"
            ],
            "image/png": "[encoded data removed]"
          },
          "metadata": {}
        }
      ]
    },
    {
      "cell_type": "code",
      "source": [
        "plt.plot(history.history['accuracy'])"
      ],
      "metadata": {
        "colab": {
          "base_uri": "https://localhost:8080/",
          "height": 447
        },
        "id": "EBj9kF_NMep9",
        "outputId": "87c27a45-eee8-498a-f305-9bae88ccca8f"
      },
      "execution_count": null,
      "outputs": [
        {
          "output_type": "execute_result",
          "data": {
            "text/plain": [
              "[<matplotlib.lines.Line2D at 0x7fa943fa36d0>]"
            ]
          },
          "metadata": {},
          "execution_count": 29
        },
        {
          "output_type": "display_data",
          "data": {
            "text/plain": [
              "<Figure size 640x480 with 1 Axes>"
            ],
            "image/png": "[encoded data removed]"
          },
          "metadata": {}
        }
      ]
    },
    {
      "cell_type": "code",
      "source": [
        "plt.plot(history.history['loss'])"
      ],
      "metadata": {
        "colab": {
          "base_uri": "https://localhost:8080/",
          "height": 447
        },
        "id": "9UdqiLSoMh3n",
        "outputId": "b2935591-3ee9-49f4-97d5-488cb73117e0"
      },
      "execution_count": null,
      "outputs": [
        {
          "output_type": "execute_result",
          "data": {
            "text/plain": [
              "[<matplotlib.lines.Line2D at 0x7fa943e2da50>]"
            ]
          },
          "metadata": {},
          "execution_count": 30
        },
        {
          "output_type": "display_data",
          "data": {
            "text/plain": [
              "<Figure size 640x480 with 1 Axes>"
            ],
            "image/png": "[encoded data removed]"
          },
          "metadata": {}
        }
      ]
    },
    {
      "cell_type": "code",
      "source": [
        "y_predict=model.predict(X_test)"
      ],
      "metadata": {
        "colab": {
          "base_uri": "https://localhost:8080/"
        },
        "id": "bwdCUtNTMh7G",
        "outputId": "2f39be56-9d33-4463-cfe7-d1ab3636db57"
      },
      "execution_count": null,
      "outputs": [
        {
          "output_type": "stream",
          "name": "stdout",
          "text": [
            "6/6 [==============================] - 0s 3ms/step\n"
          ]
        }
      ]
    },
    {
      "cell_type": "code",
      "source": [
        "from sklearn.metrics import classification_report\n",
        "import numpy as np\n",
        "\n",
        "y_predict=np.argmax(y_predict,axis=1)\n",
        "a=classification_report(y_test,y_predict)\n",
        "print(a)"
      ],
      "metadata": {
        "colab": {
          "base_uri": "https://localhost:8080/"
        },
        "id": "AlqEkfIyOHuN",
        "outputId": "77f180f9-9c24-471e-9185-05883c9851dd"
      },
      "execution_count": null,
      "outputs": [
        {
          "output_type": "stream",
          "name": "stdout",
          "text": [
            "              precision    recall  f1-score   support\n",
            "\n",
            "           0       0.83      0.87      0.85       126\n",
            "           1       0.73      0.67      0.70        66\n",
            "\n",
            "    accuracy                           0.80       192\n",
            "   macro avg       0.78      0.77      0.78       192\n",
            "weighted avg       0.80      0.80      0.80       192\n",
            "\n"
          ]
        }
      ]
    },
    {
      "source": [
        "from sklearn.metrics import confusion_matrix\n",
        "z = confusion_matrix(y_test, y_predict)\n",
        "print(z)"
      ],
      "cell_type": "code",
      "metadata": {
        "colab": {
          "base_uri": "https://localhost:8080/"
        },
        "id": "x7MuTueSUku-",
        "outputId": "d8726d14-c0dc-4aa0-da68-63d6caecb654"
      },
      "execution_count": null,
      "outputs": [
        {
          "output_type": "stream",
          "name": "stdout",
          "text": [
            "[[110  16]\n",
            " [ 22  44]]\n"
          ]
        }
      ]
    },
    {
      "cell_type": "code",
      "source": [
        "print(y_test==1)"
      ],
      "metadata": {
        "colab": {
          "base_uri": "https://localhost:8080/"
        },
        "id": "fQK2NVQQVFwx",
        "outputId": "87e5b8fc-3cc5-4029-b39f-bed7c9ed8efc"
      },
      "execution_count": null,
      "outputs": [
        {
          "output_type": "stream",
          "name": "stdout",
          "text": [
            "[ True False  True  True False  True  True False False  True False False\n",
            "  True  True False  True False False False  True False  True  True  True\n",
            "  True False False False False  True False False False False False False\n",
            " False  True False  True False  True False False False  True False False\n",
            "  True  True False False False  True False False False  True False False\n",
            " False False False  True False  True False False False False False False\n",
            " False  True False  True  True  True False  True False False  True  True\n",
            "  True False  True False False False  True False False  True False False\n",
            " False False False False  True  True False  True  True False  True False\n",
            "  True False False False False False False  True False False False False\n",
            " False  True False False False  True  True  True False  True False False\n",
            " False False False False False False False  True False False False False\n",
            "  True False False  True  True False False False False  True False False\n",
            " False False False  True False  True False  True False  True False  True\n",
            "  True False False False False False False  True False False False False\n",
            "  True False False False  True False  True False  True  True  True False]\n"
          ]
        }
      ]
    },
    {
      "cell_type": "code",
      "source": [
        "print(y_test==0)"
      ],
      "metadata": {
        "colab": {
          "base_uri": "https://localhost:8080/"
        },
        "id": "wD2OIEhCfEM8",
        "outputId": "b24ec5f8-0f4a-4819-b52f-d0ad7bbb6d86"
      },
      "execution_count": null,
      "outputs": [
        {
          "output_type": "stream",
          "name": "stdout",
          "text": [
            "[False  True False False  True False False  True  True False  True  True\n",
            " False False  True False  True  True  True False  True False False False\n",
            " False  True  True  True  True False  True  True  True  True  True  True\n",
            "  True False  True False  True False  True  True  True False  True  True\n",
            " False False  True  True  True False  True  True  True False  True  True\n",
            "  True  True  True False  True False  True  True  True  True  True  True\n",
            "  True False  True False False False  True False  True  True False False\n",
            " False  True False  True  True  True False  True  True False  True  True\n",
            "  True  True  True  True False False  True False False  True False  True\n",
            " False  True  True  True  True  True  True False  True  True  True  True\n",
            "  True False  True  True  True False False False  True False  True  True\n",
            "  True  True  True  True  True  True  True False  True  True  True  True\n",
            " False  True  True False False  True  True  True  True False  True  True\n",
            "  True  True  True False  True False  True False  True False  True False\n",
            " False  True  True  True  True  True  True False  True  True  True  True\n",
            " False  True  True  True False  True False  True False False False  True]\n"
          ]
        }
      ]
    },
    {
      "cell_type": "code",
      "source": [
        "np.sum(y_test==1)"
      ],
      "metadata": {
        "colab": {
          "base_uri": "https://localhost:8080/"
        },
        "id": "fvQOWns0Un_F",
        "outputId": "0bada504-e887-47a5-90ce-14ed093c9a42"
      },
      "execution_count": null,
      "outputs": [
        {
          "output_type": "execute_result",
          "data": {
            "text/plain": [
              "66"
            ]
          },
          "metadata": {},
          "execution_count": 36
        }
      ]
    },
    {
      "cell_type": "code",
      "source": [
        "np.sum(y_test==0)"
      ],
      "metadata": {
        "colab": {
          "base_uri": "https://localhost:8080/"
        },
        "id": "b5QzMwWYUn7n",
        "outputId": "ca86634c-08f7-41c9-c3a9-c5ce14a8b745"
      },
      "execution_count": null,
      "outputs": [
        {
          "output_type": "execute_result",
          "data": {
            "text/plain": [
              "126"
            ]
          },
          "metadata": {},
          "execution_count": 37
        }
      ]
    },
    {
      "cell_type": "code",
      "source": [
        "from sklearn.metrics import roc_curve,roc_auc_score\n",
        "fpr, tpr,thresholds = roc_curve(y_test,y_predict)"
      ],
      "metadata": {
        "id": "Pz_AzceyppoD"
      },
      "execution_count": null,
      "outputs": []
    },
    {
      "cell_type": "code",
      "source": [
        "plt.plot(fpr,tpr)\n",
        "plt.xlabel(\"false positive rate\")\n",
        "plt.ylabel(\"true positive rate\")\n",
        "plt.show()"
      ],
      "metadata": {
        "id": "poPSBxStppkr",
        "colab": {
          "base_uri": "https://localhost:8080/",
          "height": 449
        },
        "outputId": "75a69f33-4011-4953-b4c5-27fd89f7808c"
      },
      "execution_count": null,
      "outputs": [
        {
          "output_type": "display_data",
          "data": {
            "text/plain": [
              "<Figure size 640x480 with 1 Axes>"
            ],
            "image/png": "[encoded data removed]"
          },
          "metadata": {}
        }
      ]
    },
    {
      "cell_type": "code",
      "source": [
        "print(f\"AUC : {roc_auc_score(y_test,y_predict)}\")"
      ],
      "metadata": {
        "colab": {
          "base_uri": "https://localhost:8080/"
        },
        "id": "t1avfFH3zHCH",
        "outputId": "dabdd34b-9158-435a-bce7-5792b4622b34"
      },
      "execution_count": null,
      "outputs": [
        {
          "output_type": "stream",
          "name": "stdout",
          "text": [
            "AUC : 0.7698412698412698\n"
          ]
        }
      ]
    },
    {
      "cell_type": "code",
      "source": [
        "!pip install visualkeras"
      ],
      "metadata": {
        "colab": {
          "base_uri": "https://localhost:8080/"
        },
        "id": "qebpErmw4wbC",
        "outputId": "e405043b-9668-4d4d-daf8-2e50c9acd90b"
      },
      "execution_count": null,
      "outputs": [
        {
          "output_type": "stream",
          "name": "stdout",
          "text": [
            "Collecting visualkeras\n",
            "  Downloading visualkeras-0.0.2-py3-none-any.whl (12 kB)\n",
            "Requirement already satisfied: pillow>=6.2.0 in /usr/local/lib/python3.10/dist-packages (from visualkeras) (9.4.0)\n",
            "Requirement already satisfied: numpy>=1.18.1 in /usr/local/lib/python3.10/dist-packages (from visualkeras) (1.25.2)\n",
            "Collecting aggdraw>=1.3.11 (from visualkeras)\n",
            "  Downloading aggdraw-1.3.18.post0-cp310-cp310-manylinux_2_17_x86_64.manylinux2014_x86_64.whl (993 kB)\n",
            "\u001b[2K     \u001b[90m━━━━━━━━━━━━━━━━━━━━━━━━━━━━━━━━━━━━━━━━\u001b[0m \u001b[32m993.8/993.8 kB\u001b[0m \u001b[31m8.2 MB/s\u001b[0m eta \u001b[36m0:00:00\u001b[0m\n",
            "\u001b[?25hInstalling collected packages: aggdraw, visualkeras\n",
            "Successfully installed aggdraw-1.3.18.post0 visualkeras-0.0.2\n"
          ]
        }
      ]
    },
    {
      "cell_type": "code",
      "source": [
        "import visualkeras\n",
        "visualkeras.layered_view(model,legend=True)"
      ],
      "metadata": {
        "colab": {
          "base_uri": "https://localhost:8080/",
          "height": 80
        },
        "id": "le2p6xq546hf",
        "outputId": "80d15825-c1ec-40a0-98da-09097fb8b217"
      },
      "execution_count": null,
      "outputs": [
        {
          "output_type": "execute_result",
          "data": {
            "text/plain": [
              "<PIL.Image.Image image mode=RGBA size=77x63>"
            ],
            "image/png": "[encoded data removed]"
          },
          "metadata": {},
          "execution_count": 42
        }
      ]
    },
    {
      "cell_type": "code",
      "source": [
        "from sklearn.linear_model import LogisticRegression\n",
        "from sklearn.svm import SVC\n",
        "\n",
        "model3=LogisticRegression()\n",
        "model3.fit(X_train,y_train)\n",
        "y_predict1=model3.predict(X_test)"
      ],
      "metadata": {
        "id": "IXigu9TA7URa"
      },
      "execution_count": null,
      "outputs": []
    },
    {
      "cell_type": "code",
      "source": [
        "from sklearn.metrics import accuracy_score\n",
        "acc=accuracy_score(y_test,y_predict1)\n",
        "acc"
      ],
      "metadata": {
        "colab": {
          "base_uri": "https://localhost:8080/"
        },
        "id": "9VmdW9Fx74EQ",
        "outputId": "e2d718f6-1937-442f-adfc-408496241eec"
      },
      "execution_count": null,
      "outputs": [
        {
          "output_type": "execute_result",
          "data": {
            "text/plain": [
              "0.8020833333333334"
            ]
          },
          "metadata": {},
          "execution_count": 44
        }
      ]
    },
    {
      "cell_type": "code",
      "source": [
        "model4 = SVC()\n",
        "model4.fit(X_train,y_train)\n",
        "y_predict2 = model4.predict(X_test)\n",
        "acc1 = accuracy_score(y_test, y_predict2)\n",
        "acc1"
      ],
      "metadata": {
        "id": "YqYrXvpBzXs0",
        "colab": {
          "base_uri": "https://localhost:8080/"
        },
        "outputId": "aa21a578-7338-444f-de8e-20c107b13ca0"
      },
      "execution_count": null,
      "outputs": [
        {
          "output_type": "execute_result",
          "data": {
            "text/plain": [
              "0.8020833333333334"
            ]
          },
          "metadata": {},
          "execution_count": 45
        }
      ]
    },
    {
      "cell_type": "code",
      "source": [
        "!pip install lazypredict"
      ],
      "metadata": {
        "id": "bb6Jgq3KzXmF",
        "colab": {
          "base_uri": "https://localhost:8080/"
        },
        "outputId": "146c46d4-6624-4ab5-8d29-dbd94405a2e0"
      },
      "execution_count": null,
      "outputs": [
        {
          "output_type": "stream",
          "name": "stdout",
          "text": [
            "Requirement already satisfied: lazypredict in /usr/local/lib/python3.10/dist-packages (0.2.12)\n",
            "Requirement already satisfied: click in /usr/local/lib/python3.10/dist-packages (from lazypredict) (8.1.7)\n",
            "Requirement already satisfied: scikit-learn in /usr/local/lib/python3.10/dist-packages (from lazypredict) (1.2.2)\n",
            "Requirement already satisfied: pandas in /usr/local/lib/python3.10/dist-packages (from lazypredict) (1.5.3)\n",
            "Requirement already satisfied: tqdm in /usr/local/lib/python3.10/dist-packages (from lazypredict) (4.66.2)\n",
            "Requirement already satisfied: joblib in /usr/local/lib/python3.10/dist-packages (from lazypredict) (1.3.2)\n",
            "Requirement already satisfied: lightgbm in /usr/local/lib/python3.10/dist-packages (from lazypredict) (4.1.0)\n",
            "Requirement already satisfied: xgboost in /usr/local/lib/python3.10/dist-packages (from lazypredict) (2.0.3)\n",
            "Requirement already satisfied: numpy in /usr/local/lib/python3.10/dist-packages (from lightgbm->lazypredict) (1.25.2)\n",
            "Requirement already satisfied: scipy in /usr/local/lib/python3.10/dist-packages (from lightgbm->lazypredict) (1.11.4)\n",
            "Requirement already satisfied: python-dateutil>=2.8.1 in /usr/local/lib/python3.10/dist-packages (from pandas->lazypredict) (2.8.2)\n",
            "Requirement already satisfied: pytz>=2020.1 in /usr/local/lib/python3.10/dist-packages (from pandas->lazypredict) (2023.4)\n",
            "Requirement already satisfied: threadpoolctl>=2.0.0 in /usr/local/lib/python3.10/dist-packages (from scikit-learn->lazypredict) (3.3.0)\n",
            "Requirement already satisfied: six>=1.5 in /usr/local/lib/python3.10/dist-packages (from python-dateutil>=2.8.1->pandas->lazypredict) (1.16.0)\n"
          ]
        }
      ]
    },
    {
      "cell_type": "code",
      "source": [
        "from lazypredict.Supervised import LazyClassifier"
      ],
      "metadata": {
        "id": "FDc0XW6S7jpE"
      },
      "execution_count": null,
      "outputs": []
    },
    {
      "cell_type": "code",
      "source": [
        "clf= LazyClassifier(verbose=0,ignore_warnings=True,custom_metric=None)\n",
        "model_test,predict_test=clf.fit(X_train,X_test,y_train,y_test)\n",
        "print(model_test)"
      ],
      "metadata": {
        "id": "glb8NVQl4tqV",
        "colab": {
          "base_uri": "https://localhost:8080/"
        },
        "outputId": "ebcd716c-2056-4479-af2e-6756edc4acca"
      },
      "execution_count": null,
      "outputs": [
        {
          "output_type": "stream",
          "name": "stderr",
          "text": [
            "100%|██████████| 29/29 [00:01<00:00, 14.60it/s]"
          ]
        },
        {
          "output_type": "stream",
          "name": "stdout",
          "text": [
            "[LightGBM] [Info] Number of positive: 202, number of negative: 374\n",
            "[LightGBM] [Info] Auto-choosing col-wise multi-threading, the overhead of testing was 0.000260 seconds.\n",
            "You can set `force_col_wise=true` to remove the overhead.\n",
            "[LightGBM] [Info] Total Bins 644\n",
            "[LightGBM] [Info] Number of data points in the train set: 576, number of used features: 8\n",
            "[LightGBM] [Info] [binary:BoostFromScore]: pavg=0.350694 -> initscore=-0.615988\n",
            "[LightGBM] [Info] Start training from score -0.615988\n",
            "[LightGBM] [Warning] No further splits with positive gain, best gain: -inf\n",
            "[LightGBM] [Warning] No further splits with positive gain, best gain: -inf\n",
            "[LightGBM] [Warning] No further splits with positive gain, best gain: -inf\n",
            "[LightGBM] [Warning] No further splits with positive gain, best gain: -inf\n",
            "[LightGBM] [Warning] No further splits with positive gain, best gain: -inf\n",
            "[LightGBM] [Warning] No further splits with positive gain, best gain: -inf\n",
            "[LightGBM] [Warning] No further splits with positive gain, best gain: -inf\n",
            "[LightGBM] [Warning] No further splits with positive gain, best gain: -inf\n",
            "[LightGBM] [Warning] No further splits with positive gain, best gain: -inf\n",
            "[LightGBM] [Warning] No further splits with positive gain, best gain: -inf\n",
            "[LightGBM] [Warning] No further splits with positive gain, best gain: -inf\n",
            "[LightGBM] [Warning] No further splits with positive gain, best gain: -inf\n",
            "[LightGBM] [Warning] No further splits with positive gain, best gain: -inf\n",
            "[LightGBM] [Warning] No further splits with positive gain, best gain: -inf\n",
            "[LightGBM] [Warning] No further splits with positive gain, best gain: -inf\n",
            "[LightGBM] [Warning] No further splits with positive gain, best gain: -inf\n",
            "[LightGBM] [Warning] No further splits with positive gain, best gain: -inf\n",
            "[LightGBM] [Warning] No further splits with positive gain, best gain: -inf\n",
            "[LightGBM] [Warning] No further splits with positive gain, best gain: -inf\n",
            "[LightGBM] [Warning] No further splits with positive gain, best gain: -inf\n",
            "[LightGBM] [Warning] No further splits with positive gain, best gain: -inf\n",
            "[LightGBM] [Warning] No further splits with positive gain, best gain: -inf\n",
            "[LightGBM] [Warning] No further splits with positive gain, best gain: -inf\n",
            "[LightGBM] [Warning] No further splits with positive gain, best gain: -inf\n",
            "[LightGBM] [Warning] No further splits with positive gain, best gain: -inf\n",
            "[LightGBM] [Warning] No further splits with positive gain, best gain: -inf\n",
            "[LightGBM] [Warning] No further splits with positive gain, best gain: -inf\n",
            "[LightGBM] [Warning] No further splits with positive gain, best gain: -inf\n",
            "[LightGBM] [Warning] No further splits with positive gain, best gain: -inf\n",
            "[LightGBM] [Warning] No further splits with positive gain, best gain: -inf\n",
            "[LightGBM] [Warning] No further splits with positive gain, best gain: -inf\n",
            "[LightGBM] [Warning] No further splits with positive gain, best gain: -inf\n",
            "[LightGBM] [Warning] No further splits with positive gain, best gain: -inf\n",
            "[LightGBM] [Warning] No further splits with positive gain, best gain: -inf\n",
            "[LightGBM] [Warning] No further splits with positive gain, best gain: -inf\n",
            "[LightGBM] [Warning] No further splits with positive gain, best gain: -inf\n",
            "[LightGBM] [Warning] No further splits with positive gain, best gain: -inf\n",
            "[LightGBM] [Warning] No further splits with positive gain, best gain: -inf\n",
            "[LightGBM] [Warning] No further splits with positive gain, best gain: -inf\n",
            "[LightGBM] [Warning] No further splits with positive gain, best gain: -inf\n",
            "[LightGBM] [Warning] No further splits with positive gain, best gain: -inf\n",
            "[LightGBM] [Warning] No further splits with positive gain, best gain: -inf\n",
            "[LightGBM] [Warning] No further splits with positive gain, best gain: -inf\n",
            "[LightGBM] [Warning] No further splits with positive gain, best gain: -inf\n",
            "[LightGBM] [Warning] No further splits with positive gain, best gain: -inf\n",
            "[LightGBM] [Warning] No further splits with positive gain, best gain: -inf\n",
            "[LightGBM] [Warning] No further splits with positive gain, best gain: -inf\n",
            "[LightGBM] [Warning] No further splits with positive gain, best gain: -inf\n",
            "[LightGBM] [Warning] No further splits with positive gain, best gain: -inf\n",
            "[LightGBM] [Warning] No further splits with positive gain, best gain: -inf\n",
            "[LightGBM] [Warning] No further splits with positive gain, best gain: -inf\n",
            "[LightGBM] [Warning] No further splits with positive gain, best gain: -inf\n",
            "[LightGBM] [Warning] No further splits with positive gain, best gain: -inf\n",
            "[LightGBM] [Warning] No further splits with positive gain, best gain: -inf\n",
            "[LightGBM] [Warning] No further splits with positive gain, best gain: -inf\n",
            "[LightGBM] [Warning] No further splits with positive gain, best gain: -inf\n",
            "[LightGBM] [Warning] No further splits with positive gain, best gain: -inf\n",
            "[LightGBM] [Warning] No further splits with positive gain, best gain: -inf\n",
            "[LightGBM] [Warning] No further splits with positive gain, best gain: -inf\n",
            "[LightGBM] [Warning] No further splits with positive gain, best gain: -inf\n",
            "[LightGBM] [Warning] No further splits with positive gain, best gain: -inf\n",
            "[LightGBM] [Warning] No further splits with positive gain, best gain: -inf\n",
            "[LightGBM] [Warning] No further splits with positive gain, best gain: -inf\n",
            "[LightGBM] [Warning] No further splits with positive gain, best gain: -inf\n",
            "[LightGBM] [Warning] No further splits with positive gain, best gain: -inf\n",
            "[LightGBM] [Warning] No further splits with positive gain, best gain: -inf\n",
            "[LightGBM] [Warning] No further splits with positive gain, best gain: -inf\n",
            "[LightGBM] [Warning] No further splits with positive gain, best gain: -inf\n",
            "[LightGBM] [Warning] No further splits with positive gain, best gain: -inf\n",
            "[LightGBM] [Warning] No further splits with positive gain, best gain: -inf\n",
            "[LightGBM] [Warning] No further splits with positive gain, best gain: -inf\n",
            "[LightGBM] [Warning] No further splits with positive gain, best gain: -inf\n",
            "[LightGBM] [Warning] No further splits with positive gain, best gain: -inf\n",
            "[LightGBM] [Warning] No further splits with positive gain, best gain: -inf\n",
            "[LightGBM] [Warning] No further splits with positive gain, best gain: -inf\n",
            "[LightGBM] [Warning] No further splits with positive gain, best gain: -inf\n",
            "[LightGBM] [Warning] No further splits with positive gain, best gain: -inf\n",
            "[LightGBM] [Warning] No further splits with positive gain, best gain: -inf\n",
            "[LightGBM] [Warning] No further splits with positive gain, best gain: -inf\n",
            "[LightGBM] [Warning] No further splits with positive gain, best gain: -inf\n",
            "[LightGBM] [Warning] No further splits with positive gain, best gain: -inf\n",
            "[LightGBM] [Warning] No further splits with positive gain, best gain: -inf\n",
            "[LightGBM] [Warning] No further splits with positive gain, best gain: -inf\n",
            "[LightGBM] [Warning] No further splits with positive gain, best gain: -inf\n",
            "[LightGBM] [Warning] No further splits with positive gain, best gain: -inf\n",
            "[LightGBM] [Warning] No further splits with positive gain, best gain: -inf\n",
            "[LightGBM] [Warning] No further splits with positive gain, best gain: -inf\n",
            "[LightGBM] [Warning] No further splits with positive gain, best gain: -inf\n",
            "[LightGBM] [Warning] No further splits with positive gain, best gain: -inf\n",
            "[LightGBM] [Warning] No further splits with positive gain, best gain: -inf\n",
            "[LightGBM] [Warning] No further splits with positive gain, best gain: -inf\n",
            "[LightGBM] [Warning] No further splits with positive gain, best gain: -inf\n",
            "[LightGBM] [Warning] No further splits with positive gain, best gain: -inf\n",
            "[LightGBM] [Warning] No further splits with positive gain, best gain: -inf\n",
            "[LightGBM] [Warning] No further splits with positive gain, best gain: -inf\n",
            "[LightGBM] [Warning] No further splits with positive gain, best gain: -inf\n",
            "[LightGBM] [Warning] No further splits with positive gain, best gain: -inf\n",
            "[LightGBM] [Warning] No further splits with positive gain, best gain: -inf\n",
            "[LightGBM] [Warning] No further splits with positive gain, best gain: -inf\n",
            "[LightGBM] [Warning] No further splits with positive gain, best gain: -inf\n",
            "                               Accuracy  Balanced Accuracy  ROC AUC  F1 Score  \\\n",
            "Model                                                                           \n",
            "SGDClassifier                      0.79               0.79     0.79      0.80   \n",
            "NearestCentroid                    0.79               0.79     0.79      0.80   \n",
            "ExtraTreesClassifier               0.81               0.78     0.78      0.81   \n",
            "RandomForestClassifier             0.81               0.78     0.78      0.81   \n",
            "PassiveAggressiveClassifier        0.77               0.76     0.76      0.77   \n",
            "RidgeClassifierCV                  0.81               0.76     0.76      0.80   \n",
            "RidgeClassifier                    0.81               0.76     0.76      0.80   \n",
            "LogisticRegression                 0.80               0.76     0.76      0.80   \n",
            "GaussianNB                         0.78               0.76     0.76      0.78   \n",
            "SVC                                0.80               0.76     0.76      0.79   \n",
            "LinearSVC                          0.80               0.76     0.76      0.79   \n",
            "CalibratedClassifierCV             0.80               0.76     0.76      0.79   \n",
            "LinearDiscriminantAnalysis         0.80               0.76     0.76      0.79   \n",
            "LGBMClassifier                     0.78               0.75     0.75      0.78   \n",
            "KNeighborsClassifier               0.78               0.75     0.75      0.78   \n",
            "NuSVC                              0.79               0.74     0.74      0.78   \n",
            "XGBClassifier                      0.77               0.74     0.74      0.77   \n",
            "BernoulliNB                        0.76               0.73     0.73      0.76   \n",
            "Perceptron                         0.73               0.73     0.73      0.74   \n",
            "AdaBoostClassifier                 0.77               0.73     0.73      0.77   \n",
            "QuadraticDiscriminantAnalysis      0.76               0.72     0.72      0.76   \n",
            "DecisionTreeClassifier             0.73               0.71     0.71      0.74   \n",
            "BaggingClassifier                  0.74               0.70     0.70      0.74   \n",
            "LabelSpreading                     0.70               0.66     0.66      0.70   \n",
            "LabelPropagation                   0.70               0.66     0.66      0.70   \n",
            "ExtraTreeClassifier                0.66               0.64     0.64      0.67   \n",
            "DummyClassifier                    0.66               0.50     0.50      0.52   \n",
            "\n",
            "                               Time Taken  \n",
            "Model                                      \n",
            "SGDClassifier                        0.02  \n",
            "NearestCentroid                      0.04  \n",
            "ExtraTreesClassifier                 0.19  \n",
            "RandomForestClassifier               0.26  \n",
            "PassiveAggressiveClassifier          0.03  \n",
            "RidgeClassifierCV                    0.02  \n",
            "RidgeClassifier                      0.04  \n",
            "LogisticRegression                   0.03  \n",
            "GaussianNB                           0.02  \n",
            "SVC                                  0.03  \n",
            "LinearSVC                            0.10  \n",
            "CalibratedClassifierCV               0.16  \n",
            "LinearDiscriminantAnalysis           0.05  \n",
            "LGBMClassifier                       0.22  \n",
            "KNeighborsClassifier                 0.03  \n",
            "NuSVC                                0.05  \n",
            "XGBClassifier                        0.26  \n",
            "BernoulliNB                          0.01  \n",
            "Perceptron                           0.04  \n",
            "AdaBoostClassifier                   0.12  \n",
            "QuadraticDiscriminantAnalysis        0.04  \n",
            "DecisionTreeClassifier               0.02  \n",
            "BaggingClassifier                    0.05  \n",
            "LabelSpreading                       0.05  \n",
            "LabelPropagation                     0.04  \n",
            "ExtraTreeClassifier                  0.01  \n",
            "DummyClassifier                      0.01  \n"
          ]
        },
        {
          "output_type": "stream",
          "name": "stderr",
          "text": [
            "\n"
          ]
        }
      ]
    },
    {
      "cell_type": "code",
      "source": [
        "from sklearn.linear_model import SGDClassifier\n",
        "\n",
        "model5 = SGDClassifier()\n",
        "model5.fit(X_train, y_train)\n",
        "y_predict3 = model5.predict(X_test)\n",
        "acc2 = accuracy_score(y_test, y_predict3)\n",
        "print(acc2)\n"
      ],
      "metadata": {
        "id": "-MYgfdP59HXW",
        "colab": {
          "base_uri": "https://localhost:8080/"
        },
        "outputId": "c7919508-5c72-4423-b20b-c948e37f6c91"
      },
      "execution_count": null,
      "outputs": [
        {
          "output_type": "stream",
          "name": "stdout",
          "text": [
            "0.765625\n"
          ]
        }
      ]
    },
    {
      "cell_type": "code",
      "source": [
        "print(f\"AUC : {roc_auc_score(y_test,y_predict3)}\")"
      ],
      "metadata": {
        "colab": {
          "base_uri": "https://localhost:8080/"
        },
        "id": "BGj3F9CII5KX",
        "outputId": "1ea8167c-5ea3-4192-eea2-248bded7cccb"
      },
      "execution_count": null,
      "outputs": [
        {
          "output_type": "stream",
          "name": "stdout",
          "text": [
            "AUC : 0.7276334776334775\n"
          ]
        }
      ]
    },
    {
      "cell_type": "code",
      "source": [
        "fpr, tpr,thresholds = roc_curve(y_test,y_predict3)"
      ],
      "metadata": {
        "id": "rZCBn-WbJSUC"
      },
      "execution_count": null,
      "outputs": []
    },
    {
      "cell_type": "code",
      "source": [
        "plt.plot(fpr,tpr)\n",
        "plt.xlabel(\"false positive rate\")\n",
        "plt.ylabel(\"true positive rate\")\n",
        "plt.show()"
      ],
      "metadata": {
        "id": "r96DbMp_JgjB",
        "outputId": "4cbd8a3c-30b2-46b5-edd7-4bc6da201523",
        "colab": {
          "base_uri": "https://localhost:8080/",
          "height": 449
        }
      },
      "execution_count": null,
      "outputs": [
        {
          "output_type": "display_data",
          "data": {
            "text/plain": [
              "<Figure size 640x480 with 1 Axes>"
            ],
            "image/png": "[encoded data removed]"
          },
          "metadata": {}
        }
      ]
    },
    {
      "cell_type": "code",
      "source": [],
      "metadata": {
        "id": "O1AwrN0kJk1h"
      },
      "execution_count": null,
      "outputs": []
    },
    {
      "cell_type": "code",
      "source": [],
      "metadata": {
        "id": "MNBqUKGPJktR"
      },
      "execution_count": null,
      "outputs": []
    },
    {
      "cell_type": "code",
      "source": [],
      "metadata": {
        "id": "r_WqSPfCJkqR"
      },
      "execution_count": null,
      "outputs": []
    }
  ],
  "metadata": {
    "colab": {
      "provenance": []
    },
    "kernelspec": {
      "display_name": "Python 3",
      "name": "python3"
    },
    "language_info": {
      "name": "python"
    }
  },
  "nbformat": 4,
  "nbformat_minor": 0
}